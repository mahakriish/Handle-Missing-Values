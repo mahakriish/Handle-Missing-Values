{
 "metadata": {
  "language_info": {
   "codemirror_mode": {
    "name": "ipython",
    "version": 3
   },
   "file_extension": ".py",
   "mimetype": "text/x-python",
   "name": "python",
   "nbconvert_exporter": "python",
   "pygments_lexer": "ipython3",
   "version": "3.8.5-final"
  },
  "orig_nbformat": 2,
  "kernelspec": {
   "name": "python3",
   "display_name": "Python 3"
  }
 },
 "nbformat": 4,
 "nbformat_minor": 2,
 "cells": [
  {
   "source": [
    "# Mean,Median and Mode Imputation"
   ],
   "cell_type": "markdown",
   "metadata": {}
  },
  {
   "source": [
    "* This strategy can be applied on a feature which has numeric data like the age of a person or the ticket fare(MCAR). We can use mode for categorical data too.\n",
    "* This is an approximation which can add variance to the data set. But the loss of the data can be negated by this method which yields better results compared to removal of rows and columns.  * It is leaking the data while training. \n",
    "* This works better if the data is linear.  "
   ],
   "cell_type": "markdown",
   "metadata": {}
  },
  {
   "source": [
    "** Advantages: **\n",
    "\n",
    "* Easy to implement(Robust to outliers) and Faster way to obtain the complete dataset.\n",
    "* This is a better approach when the data size is small.\n",
    "* It can prevent data loss which results in removal of the rows and columns"
   ],
   "cell_type": "markdown",
   "metadata": {}
  },
  {
   "source": [
    "** Disadvantages: **\n",
    "\n",
    "* Imputing the approximations add variance and bias."
   ],
   "cell_type": "markdown",
   "metadata": {}
  },
  {
   "cell_type": "code",
   "execution_count": 59,
   "metadata": {},
   "outputs": [],
   "source": [
    "#Import Libraries\n",
    "import numpy as np \n",
    "import pandas as pd "
   ]
  },
  {
   "cell_type": "code",
   "execution_count": 115,
   "metadata": {},
   "outputs": [],
   "source": [
    "#Create a dummy dataset\n",
    "\n",
    "dic = { \"Rank\":[ 5,  2,  8,  6,  9,  4,  7, 10,  1,  3, 20, 11, 13, 14, 16, 15, 17, 13, 18, 14],\n",
    "\"score\":[60,80,None,5,40,70,65,None,90,None,60,80,None,16, 80, 86,88, 218, 68,285],\n",
    "\"First_Term\":[52, 51, None, 99, 73,  7, 77, 95, 81, 39,86, 98, 91, 85, 11, 71, 52, 33, 66, 90],\n",
    "\"Second_Term\":[61, 50,  5, None, 63, 83, 40, None, 28, 83, 40, 81, 54, 92,16, None,None,54, 52, 48],\n",
    "\"Third_Term\":[14, 87, 49, 12, None, 16, None,None, 35, 86,None, 16, None,None, 35, 86,7, 42, 36, 59]\n",
    "\n",
    "}"
   ]
  },
  {
   "cell_type": "code",
   "execution_count": 116,
   "metadata": {},
   "outputs": [
    {
     "output_type": "execute_result",
     "data": {
      "text/plain": [
       "    Rank  score  First_Term  Second_Term  Third_Term\n",
       "0      5   60.0        52.0         61.0        14.0\n",
       "1      2   80.0        51.0         50.0        87.0\n",
       "2      8    NaN         NaN          5.0        49.0\n",
       "3      6    5.0        99.0          NaN        12.0\n",
       "4      9   40.0        73.0         63.0         NaN\n",
       "5      4   70.0         7.0         83.0        16.0\n",
       "6      7   65.0        77.0         40.0         NaN\n",
       "7     10    NaN        95.0          NaN         NaN\n",
       "8      1   90.0        81.0         28.0        35.0\n",
       "9      3    NaN        39.0         83.0        86.0\n",
       "10    20   60.0        86.0         40.0         NaN\n",
       "11    11   80.0        98.0         81.0        16.0\n",
       "12    13    NaN        91.0         54.0         NaN\n",
       "13    14   16.0        85.0         92.0         NaN\n",
       "14    16   80.0        11.0         16.0        35.0\n",
       "15    15   86.0        71.0          NaN        86.0\n",
       "16    17   88.0        52.0          NaN         7.0\n",
       "17    13  218.0        33.0         54.0        42.0\n",
       "18    18   68.0        66.0         52.0        36.0\n",
       "19    14  285.0        90.0         48.0        59.0"
      ],
      "text/html": "<div>\n<style scoped>\n    .dataframe tbody tr th:only-of-type {\n        vertical-align: middle;\n    }\n\n    .dataframe tbody tr th {\n        vertical-align: top;\n    }\n\n    .dataframe thead th {\n        text-align: right;\n    }\n</style>\n<table border=\"1\" class=\"dataframe\">\n  <thead>\n    <tr style=\"text-align: right;\">\n      <th></th>\n      <th>Rank</th>\n      <th>score</th>\n      <th>First_Term</th>\n      <th>Second_Term</th>\n      <th>Third_Term</th>\n    </tr>\n  </thead>\n  <tbody>\n    <tr>\n      <th>0</th>\n      <td>5</td>\n      <td>60.0</td>\n      <td>52.0</td>\n      <td>61.0</td>\n      <td>14.0</td>\n    </tr>\n    <tr>\n      <th>1</th>\n      <td>2</td>\n      <td>80.0</td>\n      <td>51.0</td>\n      <td>50.0</td>\n      <td>87.0</td>\n    </tr>\n    <tr>\n      <th>2</th>\n      <td>8</td>\n      <td>NaN</td>\n      <td>NaN</td>\n      <td>5.0</td>\n      <td>49.0</td>\n    </tr>\n    <tr>\n      <th>3</th>\n      <td>6</td>\n      <td>5.0</td>\n      <td>99.0</td>\n      <td>NaN</td>\n      <td>12.0</td>\n    </tr>\n    <tr>\n      <th>4</th>\n      <td>9</td>\n      <td>40.0</td>\n      <td>73.0</td>\n      <td>63.0</td>\n      <td>NaN</td>\n    </tr>\n    <tr>\n      <th>5</th>\n      <td>4</td>\n      <td>70.0</td>\n      <td>7.0</td>\n      <td>83.0</td>\n      <td>16.0</td>\n    </tr>\n    <tr>\n      <th>6</th>\n      <td>7</td>\n      <td>65.0</td>\n      <td>77.0</td>\n      <td>40.0</td>\n      <td>NaN</td>\n    </tr>\n    <tr>\n      <th>7</th>\n      <td>10</td>\n      <td>NaN</td>\n      <td>95.0</td>\n      <td>NaN</td>\n      <td>NaN</td>\n    </tr>\n    <tr>\n      <th>8</th>\n      <td>1</td>\n      <td>90.0</td>\n      <td>81.0</td>\n      <td>28.0</td>\n      <td>35.0</td>\n    </tr>\n    <tr>\n      <th>9</th>\n      <td>3</td>\n      <td>NaN</td>\n      <td>39.0</td>\n      <td>83.0</td>\n      <td>86.0</td>\n    </tr>\n    <tr>\n      <th>10</th>\n      <td>20</td>\n      <td>60.0</td>\n      <td>86.0</td>\n      <td>40.0</td>\n      <td>NaN</td>\n    </tr>\n    <tr>\n      <th>11</th>\n      <td>11</td>\n      <td>80.0</td>\n      <td>98.0</td>\n      <td>81.0</td>\n      <td>16.0</td>\n    </tr>\n    <tr>\n      <th>12</th>\n      <td>13</td>\n      <td>NaN</td>\n      <td>91.0</td>\n      <td>54.0</td>\n      <td>NaN</td>\n    </tr>\n    <tr>\n      <th>13</th>\n      <td>14</td>\n      <td>16.0</td>\n      <td>85.0</td>\n      <td>92.0</td>\n      <td>NaN</td>\n    </tr>\n    <tr>\n      <th>14</th>\n      <td>16</td>\n      <td>80.0</td>\n      <td>11.0</td>\n      <td>16.0</td>\n      <td>35.0</td>\n    </tr>\n    <tr>\n      <th>15</th>\n      <td>15</td>\n      <td>86.0</td>\n      <td>71.0</td>\n      <td>NaN</td>\n      <td>86.0</td>\n    </tr>\n    <tr>\n      <th>16</th>\n      <td>17</td>\n      <td>88.0</td>\n      <td>52.0</td>\n      <td>NaN</td>\n      <td>7.0</td>\n    </tr>\n    <tr>\n      <th>17</th>\n      <td>13</td>\n      <td>218.0</td>\n      <td>33.0</td>\n      <td>54.0</td>\n      <td>42.0</td>\n    </tr>\n    <tr>\n      <th>18</th>\n      <td>18</td>\n      <td>68.0</td>\n      <td>66.0</td>\n      <td>52.0</td>\n      <td>36.0</td>\n    </tr>\n    <tr>\n      <th>19</th>\n      <td>14</td>\n      <td>285.0</td>\n      <td>90.0</td>\n      <td>48.0</td>\n      <td>59.0</td>\n    </tr>\n  </tbody>\n</table>\n</div>"
     },
     "metadata": {},
     "execution_count": 116
    }
   ],
   "source": [
    "data = pd.DataFrame(dic)\n",
    "data"
   ]
  },
  {
   "source": [
    "# Mean"
   ],
   "cell_type": "markdown",
   "metadata": {}
  },
  {
   "source": [
    "**1.Arithmetic Mean (x):**\n",
    "\n",
    "   * The Mean of the given values is sum of all the observations divided by the total number of observations.\n",
    "   * It is denoted by ${\\overline{x}}$\n",
    "   \n",
    "   ${\\overline{x}}$ = $ \\frac{Sum of all the observations}{Number of observations} $\n",
    "   \n",
    "*Mean Tells*\n",
    "\n",
    "* Not resistant to outliers\n",
    "* Not very stable"
   ],
   "cell_type": "markdown",
   "metadata": {}
  },
  {
   "cell_type": "code",
   "execution_count": 117,
   "metadata": {},
   "outputs": [],
   "source": [
    "#By function (For reuse)"
   ]
  },
  {
   "cell_type": "code",
   "execution_count": 118,
   "metadata": {},
   "outputs": [],
   "source": [
    "def impute_nan(data,variable,mean):\n",
    "    data[variable+'_mean_byfunc'] = data[variable].fillna(mean)"
   ]
  },
  {
   "cell_type": "code",
   "execution_count": 119,
   "metadata": {},
   "outputs": [
    {
     "output_type": "execute_result",
     "data": {
      "text/plain": [
       "86.9375"
      ]
     },
     "metadata": {},
     "execution_count": 119
    }
   ],
   "source": [
    "mean = data['score'].mean()\n",
    "mean"
   ]
  },
  {
   "cell_type": "code",
   "execution_count": 120,
   "metadata": {},
   "outputs": [],
   "source": [
    "impute_nan(data,'score',mean)"
   ]
  },
  {
   "cell_type": "code",
   "execution_count": 121,
   "metadata": {},
   "outputs": [
    {
     "output_type": "execute_result",
     "data": {
      "text/plain": [
       "    Rank  score  First_Term  Second_Term  Third_Term  score_mean_byfunc\n",
       "0      5   60.0        52.0         61.0        14.0            60.0000\n",
       "1      2   80.0        51.0         50.0        87.0            80.0000\n",
       "2      8    NaN         NaN          5.0        49.0            86.9375\n",
       "3      6    5.0        99.0          NaN        12.0             5.0000\n",
       "4      9   40.0        73.0         63.0         NaN            40.0000\n",
       "5      4   70.0         7.0         83.0        16.0            70.0000\n",
       "6      7   65.0        77.0         40.0         NaN            65.0000\n",
       "7     10    NaN        95.0          NaN         NaN            86.9375\n",
       "8      1   90.0        81.0         28.0        35.0            90.0000\n",
       "9      3    NaN        39.0         83.0        86.0            86.9375\n",
       "10    20   60.0        86.0         40.0         NaN            60.0000\n",
       "11    11   80.0        98.0         81.0        16.0            80.0000\n",
       "12    13    NaN        91.0         54.0         NaN            86.9375\n",
       "13    14   16.0        85.0         92.0         NaN            16.0000\n",
       "14    16   80.0        11.0         16.0        35.0            80.0000\n",
       "15    15   86.0        71.0          NaN        86.0            86.0000\n",
       "16    17   88.0        52.0          NaN         7.0            88.0000\n",
       "17    13  218.0        33.0         54.0        42.0           218.0000\n",
       "18    18   68.0        66.0         52.0        36.0            68.0000\n",
       "19    14  285.0        90.0         48.0        59.0           285.0000"
      ],
      "text/html": "<div>\n<style scoped>\n    .dataframe tbody tr th:only-of-type {\n        vertical-align: middle;\n    }\n\n    .dataframe tbody tr th {\n        vertical-align: top;\n    }\n\n    .dataframe thead th {\n        text-align: right;\n    }\n</style>\n<table border=\"1\" class=\"dataframe\">\n  <thead>\n    <tr style=\"text-align: right;\">\n      <th></th>\n      <th>Rank</th>\n      <th>score</th>\n      <th>First_Term</th>\n      <th>Second_Term</th>\n      <th>Third_Term</th>\n      <th>score_mean_byfunc</th>\n    </tr>\n  </thead>\n  <tbody>\n    <tr>\n      <th>0</th>\n      <td>5</td>\n      <td>60.0</td>\n      <td>52.0</td>\n      <td>61.0</td>\n      <td>14.0</td>\n      <td>60.0000</td>\n    </tr>\n    <tr>\n      <th>1</th>\n      <td>2</td>\n      <td>80.0</td>\n      <td>51.0</td>\n      <td>50.0</td>\n      <td>87.0</td>\n      <td>80.0000</td>\n    </tr>\n    <tr>\n      <th>2</th>\n      <td>8</td>\n      <td>NaN</td>\n      <td>NaN</td>\n      <td>5.0</td>\n      <td>49.0</td>\n      <td>86.9375</td>\n    </tr>\n    <tr>\n      <th>3</th>\n      <td>6</td>\n      <td>5.0</td>\n      <td>99.0</td>\n      <td>NaN</td>\n      <td>12.0</td>\n      <td>5.0000</td>\n    </tr>\n    <tr>\n      <th>4</th>\n      <td>9</td>\n      <td>40.0</td>\n      <td>73.0</td>\n      <td>63.0</td>\n      <td>NaN</td>\n      <td>40.0000</td>\n    </tr>\n    <tr>\n      <th>5</th>\n      <td>4</td>\n      <td>70.0</td>\n      <td>7.0</td>\n      <td>83.0</td>\n      <td>16.0</td>\n      <td>70.0000</td>\n    </tr>\n    <tr>\n      <th>6</th>\n      <td>7</td>\n      <td>65.0</td>\n      <td>77.0</td>\n      <td>40.0</td>\n      <td>NaN</td>\n      <td>65.0000</td>\n    </tr>\n    <tr>\n      <th>7</th>\n      <td>10</td>\n      <td>NaN</td>\n      <td>95.0</td>\n      <td>NaN</td>\n      <td>NaN</td>\n      <td>86.9375</td>\n    </tr>\n    <tr>\n      <th>8</th>\n      <td>1</td>\n      <td>90.0</td>\n      <td>81.0</td>\n      <td>28.0</td>\n      <td>35.0</td>\n      <td>90.0000</td>\n    </tr>\n    <tr>\n      <th>9</th>\n      <td>3</td>\n      <td>NaN</td>\n      <td>39.0</td>\n      <td>83.0</td>\n      <td>86.0</td>\n      <td>86.9375</td>\n    </tr>\n    <tr>\n      <th>10</th>\n      <td>20</td>\n      <td>60.0</td>\n      <td>86.0</td>\n      <td>40.0</td>\n      <td>NaN</td>\n      <td>60.0000</td>\n    </tr>\n    <tr>\n      <th>11</th>\n      <td>11</td>\n      <td>80.0</td>\n      <td>98.0</td>\n      <td>81.0</td>\n      <td>16.0</td>\n      <td>80.0000</td>\n    </tr>\n    <tr>\n      <th>12</th>\n      <td>13</td>\n      <td>NaN</td>\n      <td>91.0</td>\n      <td>54.0</td>\n      <td>NaN</td>\n      <td>86.9375</td>\n    </tr>\n    <tr>\n      <th>13</th>\n      <td>14</td>\n      <td>16.0</td>\n      <td>85.0</td>\n      <td>92.0</td>\n      <td>NaN</td>\n      <td>16.0000</td>\n    </tr>\n    <tr>\n      <th>14</th>\n      <td>16</td>\n      <td>80.0</td>\n      <td>11.0</td>\n      <td>16.0</td>\n      <td>35.0</td>\n      <td>80.0000</td>\n    </tr>\n    <tr>\n      <th>15</th>\n      <td>15</td>\n      <td>86.0</td>\n      <td>71.0</td>\n      <td>NaN</td>\n      <td>86.0</td>\n      <td>86.0000</td>\n    </tr>\n    <tr>\n      <th>16</th>\n      <td>17</td>\n      <td>88.0</td>\n      <td>52.0</td>\n      <td>NaN</td>\n      <td>7.0</td>\n      <td>88.0000</td>\n    </tr>\n    <tr>\n      <th>17</th>\n      <td>13</td>\n      <td>218.0</td>\n      <td>33.0</td>\n      <td>54.0</td>\n      <td>42.0</td>\n      <td>218.0000</td>\n    </tr>\n    <tr>\n      <th>18</th>\n      <td>18</td>\n      <td>68.0</td>\n      <td>66.0</td>\n      <td>52.0</td>\n      <td>36.0</td>\n      <td>68.0000</td>\n    </tr>\n    <tr>\n      <th>19</th>\n      <td>14</td>\n      <td>285.0</td>\n      <td>90.0</td>\n      <td>48.0</td>\n      <td>59.0</td>\n      <td>285.0000</td>\n    </tr>\n  </tbody>\n</table>\n</div>"
     },
     "metadata": {},
     "execution_count": 121
    }
   ],
   "source": [
    "data"
   ]
  },
  {
   "cell_type": "code",
   "execution_count": 122,
   "metadata": {},
   "outputs": [],
   "source": [
    "#Normal"
   ]
  },
  {
   "cell_type": "code",
   "execution_count": 123,
   "metadata": {},
   "outputs": [
    {
     "output_type": "execute_result",
     "data": {
      "text/plain": [
       "    Rank  score  First_Term  Second_Term  Third_Term  score_mean_byfunc  \\\n",
       "0      5   60.0        52.0         61.0        14.0            60.0000   \n",
       "1      2   80.0        51.0         50.0        87.0            80.0000   \n",
       "2      8    NaN         NaN          5.0        49.0            86.9375   \n",
       "3      6    5.0        99.0          NaN        12.0             5.0000   \n",
       "4      9   40.0        73.0         63.0         NaN            40.0000   \n",
       "5      4   70.0         7.0         83.0        16.0            70.0000   \n",
       "6      7   65.0        77.0         40.0         NaN            65.0000   \n",
       "7     10    NaN        95.0          NaN         NaN            86.9375   \n",
       "8      1   90.0        81.0         28.0        35.0            90.0000   \n",
       "9      3    NaN        39.0         83.0        86.0            86.9375   \n",
       "10    20   60.0        86.0         40.0         NaN            60.0000   \n",
       "11    11   80.0        98.0         81.0        16.0            80.0000   \n",
       "12    13    NaN        91.0         54.0         NaN            86.9375   \n",
       "13    14   16.0        85.0         92.0         NaN            16.0000   \n",
       "14    16   80.0        11.0         16.0        35.0            80.0000   \n",
       "15    15   86.0        71.0          NaN        86.0            86.0000   \n",
       "16    17   88.0        52.0          NaN         7.0            88.0000   \n",
       "17    13  218.0        33.0         54.0        42.0           218.0000   \n",
       "18    18   68.0        66.0         52.0        36.0            68.0000   \n",
       "19    14  285.0        90.0         48.0        59.0           285.0000   \n",
       "\n",
       "    score_mean_norm  \n",
       "0           60.0000  \n",
       "1           80.0000  \n",
       "2           86.9375  \n",
       "3            5.0000  \n",
       "4           40.0000  \n",
       "5           70.0000  \n",
       "6           65.0000  \n",
       "7           86.9375  \n",
       "8           90.0000  \n",
       "9           86.9375  \n",
       "10          60.0000  \n",
       "11          80.0000  \n",
       "12          86.9375  \n",
       "13          16.0000  \n",
       "14          80.0000  \n",
       "15          86.0000  \n",
       "16          88.0000  \n",
       "17         218.0000  \n",
       "18          68.0000  \n",
       "19         285.0000  "
      ],
      "text/html": "<div>\n<style scoped>\n    .dataframe tbody tr th:only-of-type {\n        vertical-align: middle;\n    }\n\n    .dataframe tbody tr th {\n        vertical-align: top;\n    }\n\n    .dataframe thead th {\n        text-align: right;\n    }\n</style>\n<table border=\"1\" class=\"dataframe\">\n  <thead>\n    <tr style=\"text-align: right;\">\n      <th></th>\n      <th>Rank</th>\n      <th>score</th>\n      <th>First_Term</th>\n      <th>Second_Term</th>\n      <th>Third_Term</th>\n      <th>score_mean_byfunc</th>\n      <th>score_mean_norm</th>\n    </tr>\n  </thead>\n  <tbody>\n    <tr>\n      <th>0</th>\n      <td>5</td>\n      <td>60.0</td>\n      <td>52.0</td>\n      <td>61.0</td>\n      <td>14.0</td>\n      <td>60.0000</td>\n      <td>60.0000</td>\n    </tr>\n    <tr>\n      <th>1</th>\n      <td>2</td>\n      <td>80.0</td>\n      <td>51.0</td>\n      <td>50.0</td>\n      <td>87.0</td>\n      <td>80.0000</td>\n      <td>80.0000</td>\n    </tr>\n    <tr>\n      <th>2</th>\n      <td>8</td>\n      <td>NaN</td>\n      <td>NaN</td>\n      <td>5.0</td>\n      <td>49.0</td>\n      <td>86.9375</td>\n      <td>86.9375</td>\n    </tr>\n    <tr>\n      <th>3</th>\n      <td>6</td>\n      <td>5.0</td>\n      <td>99.0</td>\n      <td>NaN</td>\n      <td>12.0</td>\n      <td>5.0000</td>\n      <td>5.0000</td>\n    </tr>\n    <tr>\n      <th>4</th>\n      <td>9</td>\n      <td>40.0</td>\n      <td>73.0</td>\n      <td>63.0</td>\n      <td>NaN</td>\n      <td>40.0000</td>\n      <td>40.0000</td>\n    </tr>\n    <tr>\n      <th>5</th>\n      <td>4</td>\n      <td>70.0</td>\n      <td>7.0</td>\n      <td>83.0</td>\n      <td>16.0</td>\n      <td>70.0000</td>\n      <td>70.0000</td>\n    </tr>\n    <tr>\n      <th>6</th>\n      <td>7</td>\n      <td>65.0</td>\n      <td>77.0</td>\n      <td>40.0</td>\n      <td>NaN</td>\n      <td>65.0000</td>\n      <td>65.0000</td>\n    </tr>\n    <tr>\n      <th>7</th>\n      <td>10</td>\n      <td>NaN</td>\n      <td>95.0</td>\n      <td>NaN</td>\n      <td>NaN</td>\n      <td>86.9375</td>\n      <td>86.9375</td>\n    </tr>\n    <tr>\n      <th>8</th>\n      <td>1</td>\n      <td>90.0</td>\n      <td>81.0</td>\n      <td>28.0</td>\n      <td>35.0</td>\n      <td>90.0000</td>\n      <td>90.0000</td>\n    </tr>\n    <tr>\n      <th>9</th>\n      <td>3</td>\n      <td>NaN</td>\n      <td>39.0</td>\n      <td>83.0</td>\n      <td>86.0</td>\n      <td>86.9375</td>\n      <td>86.9375</td>\n    </tr>\n    <tr>\n      <th>10</th>\n      <td>20</td>\n      <td>60.0</td>\n      <td>86.0</td>\n      <td>40.0</td>\n      <td>NaN</td>\n      <td>60.0000</td>\n      <td>60.0000</td>\n    </tr>\n    <tr>\n      <th>11</th>\n      <td>11</td>\n      <td>80.0</td>\n      <td>98.0</td>\n      <td>81.0</td>\n      <td>16.0</td>\n      <td>80.0000</td>\n      <td>80.0000</td>\n    </tr>\n    <tr>\n      <th>12</th>\n      <td>13</td>\n      <td>NaN</td>\n      <td>91.0</td>\n      <td>54.0</td>\n      <td>NaN</td>\n      <td>86.9375</td>\n      <td>86.9375</td>\n    </tr>\n    <tr>\n      <th>13</th>\n      <td>14</td>\n      <td>16.0</td>\n      <td>85.0</td>\n      <td>92.0</td>\n      <td>NaN</td>\n      <td>16.0000</td>\n      <td>16.0000</td>\n    </tr>\n    <tr>\n      <th>14</th>\n      <td>16</td>\n      <td>80.0</td>\n      <td>11.0</td>\n      <td>16.0</td>\n      <td>35.0</td>\n      <td>80.0000</td>\n      <td>80.0000</td>\n    </tr>\n    <tr>\n      <th>15</th>\n      <td>15</td>\n      <td>86.0</td>\n      <td>71.0</td>\n      <td>NaN</td>\n      <td>86.0</td>\n      <td>86.0000</td>\n      <td>86.0000</td>\n    </tr>\n    <tr>\n      <th>16</th>\n      <td>17</td>\n      <td>88.0</td>\n      <td>52.0</td>\n      <td>NaN</td>\n      <td>7.0</td>\n      <td>88.0000</td>\n      <td>88.0000</td>\n    </tr>\n    <tr>\n      <th>17</th>\n      <td>13</td>\n      <td>218.0</td>\n      <td>33.0</td>\n      <td>54.0</td>\n      <td>42.0</td>\n      <td>218.0000</td>\n      <td>218.0000</td>\n    </tr>\n    <tr>\n      <th>18</th>\n      <td>18</td>\n      <td>68.0</td>\n      <td>66.0</td>\n      <td>52.0</td>\n      <td>36.0</td>\n      <td>68.0000</td>\n      <td>68.0000</td>\n    </tr>\n    <tr>\n      <th>19</th>\n      <td>14</td>\n      <td>285.0</td>\n      <td>90.0</td>\n      <td>48.0</td>\n      <td>59.0</td>\n      <td>285.0000</td>\n      <td>285.0000</td>\n    </tr>\n  </tbody>\n</table>\n</div>"
     },
     "metadata": {},
     "execution_count": 123
    }
   ],
   "source": [
    "data['score_mean_norm'] = data['score'].fillna(data['score'].mean())\n",
    "data"
   ]
  },
  {
   "source": [
    "# Median"
   ],
   "cell_type": "markdown",
   "metadata": {}
  },
  {
   "source": [
    "**2.Meadian (Center of the data):**\n",
    "\n",
    "* Median is the value which occupies the middle position when all the observations are arranged in an ascending or descending order.\n",
    "* It is a positional average.\n",
    "\n",
    "* If there are odd number of values(n), take n+1 and divide by 2. Count up that many, that is the median.\n",
    "\n",
    "\n",
    "* If there are even number of values(n), take n+1 and divide by 2.The number will be ending something.5. Sum number of either side of that position and divide by 2.\n",
    "\n",
    "*Median Tells*\n",
    "\n",
    "* The 50 Percentile of the data\n",
    "* The middle rank of the data\n",
    "* The Median does not care much about the ends of the data. Outliers do not bother it\n",
    "* It is resistant. It is stable\n"
   ],
   "cell_type": "markdown",
   "metadata": {}
  },
  {
   "cell_type": "code",
   "execution_count": 124,
   "metadata": {},
   "outputs": [
    {
     "output_type": "stream",
     "name": "stdout",
     "text": [
      "75.0\n    Rank  score  First_Term  Second_Term  Third_Term  score_mean_byfunc  \\\n0      5   60.0        52.0         61.0        14.0            60.0000   \n1      2   80.0        51.0         50.0        87.0            80.0000   \n2      8    NaN         NaN          5.0        49.0            86.9375   \n3      6    5.0        99.0          NaN        12.0             5.0000   \n4      9   40.0        73.0         63.0         NaN            40.0000   \n5      4   70.0         7.0         83.0        16.0            70.0000   \n6      7   65.0        77.0         40.0         NaN            65.0000   \n7     10    NaN        95.0          NaN         NaN            86.9375   \n8      1   90.0        81.0         28.0        35.0            90.0000   \n9      3    NaN        39.0         83.0        86.0            86.9375   \n10    20   60.0        86.0         40.0         NaN            60.0000   \n11    11   80.0        98.0         81.0        16.0            80.0000   \n12    13    NaN        91.0         54.0         NaN            86.9375   \n13    14   16.0        85.0         92.0         NaN            16.0000   \n14    16   80.0        11.0         16.0        35.0            80.0000   \n15    15   86.0        71.0          NaN        86.0            86.0000   \n16    17   88.0        52.0          NaN         7.0            88.0000   \n17    13  218.0        33.0         54.0        42.0           218.0000   \n18    18   68.0        66.0         52.0        36.0            68.0000   \n19    14  285.0        90.0         48.0        59.0           285.0000   \n\n    score_mean_norm  score_median_byfunc  \n0           60.0000                 60.0  \n1           80.0000                 80.0  \n2           86.9375                 75.0  \n3            5.0000                  5.0  \n4           40.0000                 40.0  \n5           70.0000                 70.0  \n6           65.0000                 65.0  \n7           86.9375                 75.0  \n8           90.0000                 90.0  \n9           86.9375                 75.0  \n10          60.0000                 60.0  \n11          80.0000                 80.0  \n12          86.9375                 75.0  \n13          16.0000                 16.0  \n14          80.0000                 80.0  \n15          86.0000                 86.0  \n16          88.0000                 88.0  \n17         218.0000                218.0  \n18          68.0000                 68.0  \n19         285.0000                285.0  \n"
     ]
    }
   ],
   "source": [
    "#By function (For reuse)\n",
    "def impute_nan(data,variable,median):\n",
    "    data[variable+'_median_byfunc'] = data[variable].fillna(median)\n",
    "\n",
    "median = data['score'].median()\n",
    "print(median)\n",
    "impute_nan(data,'score',median)\n",
    "print(data)"
   ]
  },
  {
   "cell_type": "code",
   "execution_count": 125,
   "metadata": {},
   "outputs": [
    {
     "output_type": "execute_result",
     "data": {
      "text/plain": [
       "    Rank  score  First_Term  Second_Term  Third_Term  score_mean_byfunc  \\\n",
       "0      5   60.0        52.0         61.0        14.0            60.0000   \n",
       "1      2   80.0        51.0         50.0        87.0            80.0000   \n",
       "2      8    NaN         NaN          5.0        49.0            86.9375   \n",
       "3      6    5.0        99.0          NaN        12.0             5.0000   \n",
       "4      9   40.0        73.0         63.0         NaN            40.0000   \n",
       "5      4   70.0         7.0         83.0        16.0            70.0000   \n",
       "6      7   65.0        77.0         40.0         NaN            65.0000   \n",
       "7     10    NaN        95.0          NaN         NaN            86.9375   \n",
       "8      1   90.0        81.0         28.0        35.0            90.0000   \n",
       "9      3    NaN        39.0         83.0        86.0            86.9375   \n",
       "10    20   60.0        86.0         40.0         NaN            60.0000   \n",
       "11    11   80.0        98.0         81.0        16.0            80.0000   \n",
       "12    13    NaN        91.0         54.0         NaN            86.9375   \n",
       "13    14   16.0        85.0         92.0         NaN            16.0000   \n",
       "14    16   80.0        11.0         16.0        35.0            80.0000   \n",
       "15    15   86.0        71.0          NaN        86.0            86.0000   \n",
       "16    17   88.0        52.0          NaN         7.0            88.0000   \n",
       "17    13  218.0        33.0         54.0        42.0           218.0000   \n",
       "18    18   68.0        66.0         52.0        36.0            68.0000   \n",
       "19    14  285.0        90.0         48.0        59.0           285.0000   \n",
       "\n",
       "    score_mean_norm  score_median_byfunc  score_median_norm  \n",
       "0           60.0000                 60.0               60.0  \n",
       "1           80.0000                 80.0               80.0  \n",
       "2           86.9375                 75.0               75.0  \n",
       "3            5.0000                  5.0                5.0  \n",
       "4           40.0000                 40.0               40.0  \n",
       "5           70.0000                 70.0               70.0  \n",
       "6           65.0000                 65.0               65.0  \n",
       "7           86.9375                 75.0               75.0  \n",
       "8           90.0000                 90.0               90.0  \n",
       "9           86.9375                 75.0               75.0  \n",
       "10          60.0000                 60.0               60.0  \n",
       "11          80.0000                 80.0               80.0  \n",
       "12          86.9375                 75.0               75.0  \n",
       "13          16.0000                 16.0               16.0  \n",
       "14          80.0000                 80.0               80.0  \n",
       "15          86.0000                 86.0               86.0  \n",
       "16          88.0000                 88.0               88.0  \n",
       "17         218.0000                218.0              218.0  \n",
       "18          68.0000                 68.0               68.0  \n",
       "19         285.0000                285.0              285.0  "
      ],
      "text/html": "<div>\n<style scoped>\n    .dataframe tbody tr th:only-of-type {\n        vertical-align: middle;\n    }\n\n    .dataframe tbody tr th {\n        vertical-align: top;\n    }\n\n    .dataframe thead th {\n        text-align: right;\n    }\n</style>\n<table border=\"1\" class=\"dataframe\">\n  <thead>\n    <tr style=\"text-align: right;\">\n      <th></th>\n      <th>Rank</th>\n      <th>score</th>\n      <th>First_Term</th>\n      <th>Second_Term</th>\n      <th>Third_Term</th>\n      <th>score_mean_byfunc</th>\n      <th>score_mean_norm</th>\n      <th>score_median_byfunc</th>\n      <th>score_median_norm</th>\n    </tr>\n  </thead>\n  <tbody>\n    <tr>\n      <th>0</th>\n      <td>5</td>\n      <td>60.0</td>\n      <td>52.0</td>\n      <td>61.0</td>\n      <td>14.0</td>\n      <td>60.0000</td>\n      <td>60.0000</td>\n      <td>60.0</td>\n      <td>60.0</td>\n    </tr>\n    <tr>\n      <th>1</th>\n      <td>2</td>\n      <td>80.0</td>\n      <td>51.0</td>\n      <td>50.0</td>\n      <td>87.0</td>\n      <td>80.0000</td>\n      <td>80.0000</td>\n      <td>80.0</td>\n      <td>80.0</td>\n    </tr>\n    <tr>\n      <th>2</th>\n      <td>8</td>\n      <td>NaN</td>\n      <td>NaN</td>\n      <td>5.0</td>\n      <td>49.0</td>\n      <td>86.9375</td>\n      <td>86.9375</td>\n      <td>75.0</td>\n      <td>75.0</td>\n    </tr>\n    <tr>\n      <th>3</th>\n      <td>6</td>\n      <td>5.0</td>\n      <td>99.0</td>\n      <td>NaN</td>\n      <td>12.0</td>\n      <td>5.0000</td>\n      <td>5.0000</td>\n      <td>5.0</td>\n      <td>5.0</td>\n    </tr>\n    <tr>\n      <th>4</th>\n      <td>9</td>\n      <td>40.0</td>\n      <td>73.0</td>\n      <td>63.0</td>\n      <td>NaN</td>\n      <td>40.0000</td>\n      <td>40.0000</td>\n      <td>40.0</td>\n      <td>40.0</td>\n    </tr>\n    <tr>\n      <th>5</th>\n      <td>4</td>\n      <td>70.0</td>\n      <td>7.0</td>\n      <td>83.0</td>\n      <td>16.0</td>\n      <td>70.0000</td>\n      <td>70.0000</td>\n      <td>70.0</td>\n      <td>70.0</td>\n    </tr>\n    <tr>\n      <th>6</th>\n      <td>7</td>\n      <td>65.0</td>\n      <td>77.0</td>\n      <td>40.0</td>\n      <td>NaN</td>\n      <td>65.0000</td>\n      <td>65.0000</td>\n      <td>65.0</td>\n      <td>65.0</td>\n    </tr>\n    <tr>\n      <th>7</th>\n      <td>10</td>\n      <td>NaN</td>\n      <td>95.0</td>\n      <td>NaN</td>\n      <td>NaN</td>\n      <td>86.9375</td>\n      <td>86.9375</td>\n      <td>75.0</td>\n      <td>75.0</td>\n    </tr>\n    <tr>\n      <th>8</th>\n      <td>1</td>\n      <td>90.0</td>\n      <td>81.0</td>\n      <td>28.0</td>\n      <td>35.0</td>\n      <td>90.0000</td>\n      <td>90.0000</td>\n      <td>90.0</td>\n      <td>90.0</td>\n    </tr>\n    <tr>\n      <th>9</th>\n      <td>3</td>\n      <td>NaN</td>\n      <td>39.0</td>\n      <td>83.0</td>\n      <td>86.0</td>\n      <td>86.9375</td>\n      <td>86.9375</td>\n      <td>75.0</td>\n      <td>75.0</td>\n    </tr>\n    <tr>\n      <th>10</th>\n      <td>20</td>\n      <td>60.0</td>\n      <td>86.0</td>\n      <td>40.0</td>\n      <td>NaN</td>\n      <td>60.0000</td>\n      <td>60.0000</td>\n      <td>60.0</td>\n      <td>60.0</td>\n    </tr>\n    <tr>\n      <th>11</th>\n      <td>11</td>\n      <td>80.0</td>\n      <td>98.0</td>\n      <td>81.0</td>\n      <td>16.0</td>\n      <td>80.0000</td>\n      <td>80.0000</td>\n      <td>80.0</td>\n      <td>80.0</td>\n    </tr>\n    <tr>\n      <th>12</th>\n      <td>13</td>\n      <td>NaN</td>\n      <td>91.0</td>\n      <td>54.0</td>\n      <td>NaN</td>\n      <td>86.9375</td>\n      <td>86.9375</td>\n      <td>75.0</td>\n      <td>75.0</td>\n    </tr>\n    <tr>\n      <th>13</th>\n      <td>14</td>\n      <td>16.0</td>\n      <td>85.0</td>\n      <td>92.0</td>\n      <td>NaN</td>\n      <td>16.0000</td>\n      <td>16.0000</td>\n      <td>16.0</td>\n      <td>16.0</td>\n    </tr>\n    <tr>\n      <th>14</th>\n      <td>16</td>\n      <td>80.0</td>\n      <td>11.0</td>\n      <td>16.0</td>\n      <td>35.0</td>\n      <td>80.0000</td>\n      <td>80.0000</td>\n      <td>80.0</td>\n      <td>80.0</td>\n    </tr>\n    <tr>\n      <th>15</th>\n      <td>15</td>\n      <td>86.0</td>\n      <td>71.0</td>\n      <td>NaN</td>\n      <td>86.0</td>\n      <td>86.0000</td>\n      <td>86.0000</td>\n      <td>86.0</td>\n      <td>86.0</td>\n    </tr>\n    <tr>\n      <th>16</th>\n      <td>17</td>\n      <td>88.0</td>\n      <td>52.0</td>\n      <td>NaN</td>\n      <td>7.0</td>\n      <td>88.0000</td>\n      <td>88.0000</td>\n      <td>88.0</td>\n      <td>88.0</td>\n    </tr>\n    <tr>\n      <th>17</th>\n      <td>13</td>\n      <td>218.0</td>\n      <td>33.0</td>\n      <td>54.0</td>\n      <td>42.0</td>\n      <td>218.0000</td>\n      <td>218.0000</td>\n      <td>218.0</td>\n      <td>218.0</td>\n    </tr>\n    <tr>\n      <th>18</th>\n      <td>18</td>\n      <td>68.0</td>\n      <td>66.0</td>\n      <td>52.0</td>\n      <td>36.0</td>\n      <td>68.0000</td>\n      <td>68.0000</td>\n      <td>68.0</td>\n      <td>68.0</td>\n    </tr>\n    <tr>\n      <th>19</th>\n      <td>14</td>\n      <td>285.0</td>\n      <td>90.0</td>\n      <td>48.0</td>\n      <td>59.0</td>\n      <td>285.0000</td>\n      <td>285.0000</td>\n      <td>285.0</td>\n      <td>285.0</td>\n    </tr>\n  </tbody>\n</table>\n</div>"
     },
     "metadata": {},
     "execution_count": 125
    }
   ],
   "source": [
    "#By Normal\n",
    "data['score_median_norm'] = data['score'].fillna(data['score'].median())\n",
    "data"
   ]
  },
  {
   "source": [
    "** Verify Mean and Median **"
   ],
   "cell_type": "markdown",
   "metadata": {}
  },
  {
   "cell_type": "code",
   "execution_count": 126,
   "metadata": {},
   "outputs": [],
   "source": [
    "verify = data[['score','score_mean_norm','score_median_norm']]"
   ]
  },
  {
   "cell_type": "code",
   "execution_count": 127,
   "metadata": {},
   "outputs": [
    {
     "output_type": "execute_result",
     "data": {
      "text/plain": [
       "    score  score_mean_norm  score_median_norm\n",
       "0    60.0          60.0000               60.0\n",
       "1    80.0          80.0000               80.0\n",
       "2     NaN          86.9375               75.0\n",
       "3     5.0           5.0000                5.0\n",
       "4    40.0          40.0000               40.0\n",
       "5    70.0          70.0000               70.0\n",
       "6    65.0          65.0000               65.0\n",
       "7     NaN          86.9375               75.0\n",
       "8    90.0          90.0000               90.0\n",
       "9     NaN          86.9375               75.0\n",
       "10   60.0          60.0000               60.0\n",
       "11   80.0          80.0000               80.0\n",
       "12    NaN          86.9375               75.0\n",
       "13   16.0          16.0000               16.0\n",
       "14   80.0          80.0000               80.0\n",
       "15   86.0          86.0000               86.0\n",
       "16   88.0          88.0000               88.0\n",
       "17  218.0         218.0000              218.0\n",
       "18   68.0          68.0000               68.0\n",
       "19  285.0         285.0000              285.0"
      ],
      "text/html": "<div>\n<style scoped>\n    .dataframe tbody tr th:only-of-type {\n        vertical-align: middle;\n    }\n\n    .dataframe tbody tr th {\n        vertical-align: top;\n    }\n\n    .dataframe thead th {\n        text-align: right;\n    }\n</style>\n<table border=\"1\" class=\"dataframe\">\n  <thead>\n    <tr style=\"text-align: right;\">\n      <th></th>\n      <th>score</th>\n      <th>score_mean_norm</th>\n      <th>score_median_norm</th>\n    </tr>\n  </thead>\n  <tbody>\n    <tr>\n      <th>0</th>\n      <td>60.0</td>\n      <td>60.0000</td>\n      <td>60.0</td>\n    </tr>\n    <tr>\n      <th>1</th>\n      <td>80.0</td>\n      <td>80.0000</td>\n      <td>80.0</td>\n    </tr>\n    <tr>\n      <th>2</th>\n      <td>NaN</td>\n      <td>86.9375</td>\n      <td>75.0</td>\n    </tr>\n    <tr>\n      <th>3</th>\n      <td>5.0</td>\n      <td>5.0000</td>\n      <td>5.0</td>\n    </tr>\n    <tr>\n      <th>4</th>\n      <td>40.0</td>\n      <td>40.0000</td>\n      <td>40.0</td>\n    </tr>\n    <tr>\n      <th>5</th>\n      <td>70.0</td>\n      <td>70.0000</td>\n      <td>70.0</td>\n    </tr>\n    <tr>\n      <th>6</th>\n      <td>65.0</td>\n      <td>65.0000</td>\n      <td>65.0</td>\n    </tr>\n    <tr>\n      <th>7</th>\n      <td>NaN</td>\n      <td>86.9375</td>\n      <td>75.0</td>\n    </tr>\n    <tr>\n      <th>8</th>\n      <td>90.0</td>\n      <td>90.0000</td>\n      <td>90.0</td>\n    </tr>\n    <tr>\n      <th>9</th>\n      <td>NaN</td>\n      <td>86.9375</td>\n      <td>75.0</td>\n    </tr>\n    <tr>\n      <th>10</th>\n      <td>60.0</td>\n      <td>60.0000</td>\n      <td>60.0</td>\n    </tr>\n    <tr>\n      <th>11</th>\n      <td>80.0</td>\n      <td>80.0000</td>\n      <td>80.0</td>\n    </tr>\n    <tr>\n      <th>12</th>\n      <td>NaN</td>\n      <td>86.9375</td>\n      <td>75.0</td>\n    </tr>\n    <tr>\n      <th>13</th>\n      <td>16.0</td>\n      <td>16.0000</td>\n      <td>16.0</td>\n    </tr>\n    <tr>\n      <th>14</th>\n      <td>80.0</td>\n      <td>80.0000</td>\n      <td>80.0</td>\n    </tr>\n    <tr>\n      <th>15</th>\n      <td>86.0</td>\n      <td>86.0000</td>\n      <td>86.0</td>\n    </tr>\n    <tr>\n      <th>16</th>\n      <td>88.0</td>\n      <td>88.0000</td>\n      <td>88.0</td>\n    </tr>\n    <tr>\n      <th>17</th>\n      <td>218.0</td>\n      <td>218.0000</td>\n      <td>218.0</td>\n    </tr>\n    <tr>\n      <th>18</th>\n      <td>68.0</td>\n      <td>68.0000</td>\n      <td>68.0</td>\n    </tr>\n    <tr>\n      <th>19</th>\n      <td>285.0</td>\n      <td>285.0000</td>\n      <td>285.0</td>\n    </tr>\n  </tbody>\n</table>\n</div>"
     },
     "metadata": {},
     "execution_count": 127
    }
   ],
   "source": [
    "verify"
   ]
  },
  {
   "cell_type": "code",
   "execution_count": 128,
   "metadata": {},
   "outputs": [
    {
     "output_type": "stream",
     "name": "stdout",
     "text": [
      "69.80398150058014\n62.022465157477626\n62.21564788785263\n"
     ]
    }
   ],
   "source": [
    "print(verify['score'].std())\n",
    "print(verify['score_mean_norm'].std())\n",
    "print(verify['score_median_norm'].std())"
   ]
  },
  {
   "cell_type": "code",
   "execution_count": 134,
   "metadata": {},
   "outputs": [
    {
     "output_type": "execute_result",
     "data": {
      "text/plain": [
       "<matplotlib.legend.Legend at 0x7ff24d4dbfa0>"
      ]
     },
     "metadata": {},
     "execution_count": 134
    },
    {
     "output_type": "display_data",
     "data": {
      "text/plain": "<Figure size 432x288 with 1 Axes>",
      "image/svg+xml": "<?xml version=\"1.0\" encoding=\"utf-8\" standalone=\"no\"?>\n<!DOCTYPE svg PUBLIC \"-//W3C//DTD SVG 1.1//EN\"\n  \"http://www.w3.org/Graphics/SVG/1.1/DTD/svg11.dtd\">\n<!-- Created with matplotlib (https://matplotlib.org/) -->\n<svg height=\"248.518125pt\" version=\"1.1\" viewBox=\"0 0 398.50625 248.518125\" width=\"398.50625pt\" xmlns=\"http://www.w3.org/2000/svg\" xmlns:xlink=\"http://www.w3.org/1999/xlink\">\n <metadata>\n  <rdf:RDF xmlns:cc=\"http://creativecommons.org/ns#\" xmlns:dc=\"http://purl.org/dc/elements/1.1/\" xmlns:rdf=\"http://www.w3.org/1999/02/22-rdf-syntax-ns#\">\n   <cc:Work>\n    <dc:type rdf:resource=\"http://purl.org/dc/dcmitype/StillImage\"/>\n    <dc:date>2020-11-25T10:10:56.618846</dc:date>\n    <dc:format>image/svg+xml</dc:format>\n    <dc:creator>\n     <cc:Agent>\n      <dc:title>Matplotlib v3.3.3, https://matplotlib.org/</dc:title>\n     </cc:Agent>\n    </dc:creator>\n   </cc:Work>\n  </rdf:RDF>\n </metadata>\n <defs>\n  <style type=\"text/css\">*{stroke-linecap:butt;stroke-linejoin:round;}</style>\n </defs>\n <g id=\"figure_1\">\n  <g id=\"patch_1\">\n   <path d=\"M 0 248.518125 \nL 398.50625 248.518125 \nL 398.50625 0 \nL 0 0 \nz\n\" style=\"fill:none;\"/>\n  </g>\n  <g id=\"axes_1\">\n   <g id=\"patch_2\">\n    <path d=\"M 56.50625 224.64 \nL 391.30625 224.64 \nL 391.30625 7.2 \nL 56.50625 7.2 \nz\n\" style=\"fill:#ffffff;\"/>\n   </g>\n   <g id=\"matplotlib.axis_1\">\n    <g id=\"xtick_1\">\n     <g id=\"line2d_1\">\n      <defs>\n       <path d=\"M 0 0 \nL 0 3.5 \n\" id=\"m9e58645a1c\" style=\"stroke:#000000;stroke-width:0.8;\"/>\n      </defs>\n      <g>\n       <use style=\"stroke:#000000;stroke-width:0.8;\" x=\"90.747159\" xlink:href=\"#m9e58645a1c\" y=\"224.64\"/>\n      </g>\n     </g>\n     <g id=\"text_1\">\n      <!-- −100 -->\n      <g transform=\"translate(77.013565 239.238437)scale(0.1 -0.1)\">\n       <defs>\n        <path d=\"M 10.59375 35.5 \nL 73.1875 35.5 \nL 73.1875 27.203125 \nL 10.59375 27.203125 \nz\n\" id=\"DejaVuSans-8722\"/>\n        <path d=\"M 12.40625 8.296875 \nL 28.515625 8.296875 \nL 28.515625 63.921875 \nL 10.984375 60.40625 \nL 10.984375 69.390625 \nL 28.421875 72.90625 \nL 38.28125 72.90625 \nL 38.28125 8.296875 \nL 54.390625 8.296875 \nL 54.390625 0 \nL 12.40625 0 \nz\n\" id=\"DejaVuSans-49\"/>\n        <path d=\"M 31.78125 66.40625 \nQ 24.171875 66.40625 20.328125 58.90625 \nQ 16.5 51.421875 16.5 36.375 \nQ 16.5 21.390625 20.328125 13.890625 \nQ 24.171875 6.390625 31.78125 6.390625 \nQ 39.453125 6.390625 43.28125 13.890625 \nQ 47.125 21.390625 47.125 36.375 \nQ 47.125 51.421875 43.28125 58.90625 \nQ 39.453125 66.40625 31.78125 66.40625 \nz\nM 31.78125 74.21875 \nQ 44.046875 74.21875 50.515625 64.515625 \nQ 56.984375 54.828125 56.984375 36.375 \nQ 56.984375 17.96875 50.515625 8.265625 \nQ 44.046875 -1.421875 31.78125 -1.421875 \nQ 19.53125 -1.421875 13.0625 8.265625 \nQ 6.59375 17.96875 6.59375 36.375 \nQ 6.59375 54.828125 13.0625 64.515625 \nQ 19.53125 74.21875 31.78125 74.21875 \nz\n\" id=\"DejaVuSans-48\"/>\n       </defs>\n       <use xlink:href=\"#DejaVuSans-8722\"/>\n       <use x=\"83.789062\" xlink:href=\"#DejaVuSans-49\"/>\n       <use x=\"147.412109\" xlink:href=\"#DejaVuSans-48\"/>\n       <use x=\"211.035156\" xlink:href=\"#DejaVuSans-48\"/>\n      </g>\n     </g>\n    </g>\n    <g id=\"xtick_2\">\n     <g id=\"line2d_2\">\n      <g>\n       <use style=\"stroke:#000000;stroke-width:0.8;\" x=\"145.097808\" xlink:href=\"#m9e58645a1c\" y=\"224.64\"/>\n      </g>\n     </g>\n     <g id=\"text_2\">\n      <!-- 0 -->\n      <g transform=\"translate(141.916558 239.238437)scale(0.1 -0.1)\">\n       <use xlink:href=\"#DejaVuSans-48\"/>\n      </g>\n     </g>\n    </g>\n    <g id=\"xtick_3\">\n     <g id=\"line2d_3\">\n      <g>\n       <use style=\"stroke:#000000;stroke-width:0.8;\" x=\"199.448458\" xlink:href=\"#m9e58645a1c\" y=\"224.64\"/>\n      </g>\n     </g>\n     <g id=\"text_3\">\n      <!-- 100 -->\n      <g transform=\"translate(189.904708 239.238437)scale(0.1 -0.1)\">\n       <use xlink:href=\"#DejaVuSans-49\"/>\n       <use x=\"63.623047\" xlink:href=\"#DejaVuSans-48\"/>\n       <use x=\"127.246094\" xlink:href=\"#DejaVuSans-48\"/>\n      </g>\n     </g>\n    </g>\n    <g id=\"xtick_4\">\n     <g id=\"line2d_4\">\n      <g>\n       <use style=\"stroke:#000000;stroke-width:0.8;\" x=\"253.799107\" xlink:href=\"#m9e58645a1c\" y=\"224.64\"/>\n      </g>\n     </g>\n     <g id=\"text_4\">\n      <!-- 200 -->\n      <g transform=\"translate(244.255357 239.238437)scale(0.1 -0.1)\">\n       <defs>\n        <path d=\"M 19.1875 8.296875 \nL 53.609375 8.296875 \nL 53.609375 0 \nL 7.328125 0 \nL 7.328125 8.296875 \nQ 12.9375 14.109375 22.625 23.890625 \nQ 32.328125 33.6875 34.8125 36.53125 \nQ 39.546875 41.84375 41.421875 45.53125 \nQ 43.3125 49.21875 43.3125 52.78125 \nQ 43.3125 58.59375 39.234375 62.25 \nQ 35.15625 65.921875 28.609375 65.921875 \nQ 23.96875 65.921875 18.8125 64.3125 \nQ 13.671875 62.703125 7.8125 59.421875 \nL 7.8125 69.390625 \nQ 13.765625 71.78125 18.9375 73 \nQ 24.125 74.21875 28.421875 74.21875 \nQ 39.75 74.21875 46.484375 68.546875 \nQ 53.21875 62.890625 53.21875 53.421875 \nQ 53.21875 48.921875 51.53125 44.890625 \nQ 49.859375 40.875 45.40625 35.40625 \nQ 44.1875 33.984375 37.640625 27.21875 \nQ 31.109375 20.453125 19.1875 8.296875 \nz\n\" id=\"DejaVuSans-50\"/>\n       </defs>\n       <use xlink:href=\"#DejaVuSans-50\"/>\n       <use x=\"63.623047\" xlink:href=\"#DejaVuSans-48\"/>\n       <use x=\"127.246094\" xlink:href=\"#DejaVuSans-48\"/>\n      </g>\n     </g>\n    </g>\n    <g id=\"xtick_5\">\n     <g id=\"line2d_5\">\n      <g>\n       <use style=\"stroke:#000000;stroke-width:0.8;\" x=\"308.149756\" xlink:href=\"#m9e58645a1c\" y=\"224.64\"/>\n      </g>\n     </g>\n     <g id=\"text_5\">\n      <!-- 300 -->\n      <g transform=\"translate(298.606006 239.238437)scale(0.1 -0.1)\">\n       <defs>\n        <path d=\"M 40.578125 39.3125 \nQ 47.65625 37.796875 51.625 33 \nQ 55.609375 28.21875 55.609375 21.1875 \nQ 55.609375 10.40625 48.1875 4.484375 \nQ 40.765625 -1.421875 27.09375 -1.421875 \nQ 22.515625 -1.421875 17.65625 -0.515625 \nQ 12.796875 0.390625 7.625 2.203125 \nL 7.625 11.71875 \nQ 11.71875 9.328125 16.59375 8.109375 \nQ 21.484375 6.890625 26.8125 6.890625 \nQ 36.078125 6.890625 40.9375 10.546875 \nQ 45.796875 14.203125 45.796875 21.1875 \nQ 45.796875 27.640625 41.28125 31.265625 \nQ 36.765625 34.90625 28.71875 34.90625 \nL 20.21875 34.90625 \nL 20.21875 43.015625 \nL 29.109375 43.015625 \nQ 36.375 43.015625 40.234375 45.921875 \nQ 44.09375 48.828125 44.09375 54.296875 \nQ 44.09375 59.90625 40.109375 62.90625 \nQ 36.140625 65.921875 28.71875 65.921875 \nQ 24.65625 65.921875 20.015625 65.03125 \nQ 15.375 64.15625 9.8125 62.3125 \nL 9.8125 71.09375 \nQ 15.4375 72.65625 20.34375 73.4375 \nQ 25.25 74.21875 29.59375 74.21875 \nQ 40.828125 74.21875 47.359375 69.109375 \nQ 53.90625 64.015625 53.90625 55.328125 \nQ 53.90625 49.265625 50.4375 45.09375 \nQ 46.96875 40.921875 40.578125 39.3125 \nz\n\" id=\"DejaVuSans-51\"/>\n       </defs>\n       <use xlink:href=\"#DejaVuSans-51\"/>\n       <use x=\"63.623047\" xlink:href=\"#DejaVuSans-48\"/>\n       <use x=\"127.246094\" xlink:href=\"#DejaVuSans-48\"/>\n      </g>\n     </g>\n    </g>\n    <g id=\"xtick_6\">\n     <g id=\"line2d_6\">\n      <g>\n       <use style=\"stroke:#000000;stroke-width:0.8;\" x=\"362.500406\" xlink:href=\"#m9e58645a1c\" y=\"224.64\"/>\n      </g>\n     </g>\n     <g id=\"text_6\">\n      <!-- 400 -->\n      <g transform=\"translate(352.956656 239.238437)scale(0.1 -0.1)\">\n       <defs>\n        <path d=\"M 37.796875 64.3125 \nL 12.890625 25.390625 \nL 37.796875 25.390625 \nz\nM 35.203125 72.90625 \nL 47.609375 72.90625 \nL 47.609375 25.390625 \nL 58.015625 25.390625 \nL 58.015625 17.1875 \nL 47.609375 17.1875 \nL 47.609375 0 \nL 37.796875 0 \nL 37.796875 17.1875 \nL 4.890625 17.1875 \nL 4.890625 26.703125 \nz\n\" id=\"DejaVuSans-52\"/>\n       </defs>\n       <use xlink:href=\"#DejaVuSans-52\"/>\n       <use x=\"63.623047\" xlink:href=\"#DejaVuSans-48\"/>\n       <use x=\"127.246094\" xlink:href=\"#DejaVuSans-48\"/>\n      </g>\n     </g>\n    </g>\n   </g>\n   <g id=\"matplotlib.axis_2\">\n    <g id=\"ytick_1\">\n     <g id=\"line2d_7\">\n      <defs>\n       <path d=\"M 0 0 \nL -3.5 0 \n\" id=\"me7e6322920\" style=\"stroke:#000000;stroke-width:0.8;\"/>\n      </defs>\n      <g>\n       <use style=\"stroke:#000000;stroke-width:0.8;\" x=\"56.50625\" xlink:href=\"#me7e6322920\" y=\"214.759118\"/>\n      </g>\n     </g>\n     <g id=\"text_7\">\n      <!-- 0.000 -->\n      <g transform=\"translate(20.878125 218.558337)scale(0.1 -0.1)\">\n       <defs>\n        <path d=\"M 10.6875 12.40625 \nL 21 12.40625 \nL 21 0 \nL 10.6875 0 \nz\n\" id=\"DejaVuSans-46\"/>\n       </defs>\n       <use xlink:href=\"#DejaVuSans-48\"/>\n       <use x=\"63.623047\" xlink:href=\"#DejaVuSans-46\"/>\n       <use x=\"95.410156\" xlink:href=\"#DejaVuSans-48\"/>\n       <use x=\"159.033203\" xlink:href=\"#DejaVuSans-48\"/>\n       <use x=\"222.65625\" xlink:href=\"#DejaVuSans-48\"/>\n      </g>\n     </g>\n    </g>\n    <g id=\"ytick_2\">\n     <g id=\"line2d_8\">\n      <g>\n       <use style=\"stroke:#000000;stroke-width:0.8;\" x=\"56.50625\" xlink:href=\"#me7e6322920\" y=\"171.042894\"/>\n      </g>\n     </g>\n     <g id=\"text_8\">\n      <!-- 0.002 -->\n      <g transform=\"translate(20.878125 174.842113)scale(0.1 -0.1)\">\n       <use xlink:href=\"#DejaVuSans-48\"/>\n       <use x=\"63.623047\" xlink:href=\"#DejaVuSans-46\"/>\n       <use x=\"95.410156\" xlink:href=\"#DejaVuSans-48\"/>\n       <use x=\"159.033203\" xlink:href=\"#DejaVuSans-48\"/>\n       <use x=\"222.65625\" xlink:href=\"#DejaVuSans-50\"/>\n      </g>\n     </g>\n    </g>\n    <g id=\"ytick_3\">\n     <g id=\"line2d_9\">\n      <g>\n       <use style=\"stroke:#000000;stroke-width:0.8;\" x=\"56.50625\" xlink:href=\"#me7e6322920\" y=\"127.326669\"/>\n      </g>\n     </g>\n     <g id=\"text_9\">\n      <!-- 0.004 -->\n      <g transform=\"translate(20.878125 131.125888)scale(0.1 -0.1)\">\n       <use xlink:href=\"#DejaVuSans-48\"/>\n       <use x=\"63.623047\" xlink:href=\"#DejaVuSans-46\"/>\n       <use x=\"95.410156\" xlink:href=\"#DejaVuSans-48\"/>\n       <use x=\"159.033203\" xlink:href=\"#DejaVuSans-48\"/>\n       <use x=\"222.65625\" xlink:href=\"#DejaVuSans-52\"/>\n      </g>\n     </g>\n    </g>\n    <g id=\"ytick_4\">\n     <g id=\"line2d_10\">\n      <g>\n       <use style=\"stroke:#000000;stroke-width:0.8;\" x=\"56.50625\" xlink:href=\"#me7e6322920\" y=\"83.610445\"/>\n      </g>\n     </g>\n     <g id=\"text_10\">\n      <!-- 0.006 -->\n      <g transform=\"translate(20.878125 87.409664)scale(0.1 -0.1)\">\n       <defs>\n        <path d=\"M 33.015625 40.375 \nQ 26.375 40.375 22.484375 35.828125 \nQ 18.609375 31.296875 18.609375 23.390625 \nQ 18.609375 15.53125 22.484375 10.953125 \nQ 26.375 6.390625 33.015625 6.390625 \nQ 39.65625 6.390625 43.53125 10.953125 \nQ 47.40625 15.53125 47.40625 23.390625 \nQ 47.40625 31.296875 43.53125 35.828125 \nQ 39.65625 40.375 33.015625 40.375 \nz\nM 52.59375 71.296875 \nL 52.59375 62.3125 \nQ 48.875 64.0625 45.09375 64.984375 \nQ 41.3125 65.921875 37.59375 65.921875 \nQ 27.828125 65.921875 22.671875 59.328125 \nQ 17.53125 52.734375 16.796875 39.40625 \nQ 19.671875 43.65625 24.015625 45.921875 \nQ 28.375 48.1875 33.59375 48.1875 \nQ 44.578125 48.1875 50.953125 41.515625 \nQ 57.328125 34.859375 57.328125 23.390625 \nQ 57.328125 12.15625 50.6875 5.359375 \nQ 44.046875 -1.421875 33.015625 -1.421875 \nQ 20.359375 -1.421875 13.671875 8.265625 \nQ 6.984375 17.96875 6.984375 36.375 \nQ 6.984375 53.65625 15.1875 63.9375 \nQ 23.390625 74.21875 37.203125 74.21875 \nQ 40.921875 74.21875 44.703125 73.484375 \nQ 48.484375 72.75 52.59375 71.296875 \nz\n\" id=\"DejaVuSans-54\"/>\n       </defs>\n       <use xlink:href=\"#DejaVuSans-48\"/>\n       <use x=\"63.623047\" xlink:href=\"#DejaVuSans-46\"/>\n       <use x=\"95.410156\" xlink:href=\"#DejaVuSans-48\"/>\n       <use x=\"159.033203\" xlink:href=\"#DejaVuSans-48\"/>\n       <use x=\"222.65625\" xlink:href=\"#DejaVuSans-54\"/>\n      </g>\n     </g>\n    </g>\n    <g id=\"ytick_5\">\n     <g id=\"line2d_11\">\n      <g>\n       <use style=\"stroke:#000000;stroke-width:0.8;\" x=\"56.50625\" xlink:href=\"#me7e6322920\" y=\"39.89422\"/>\n      </g>\n     </g>\n     <g id=\"text_11\">\n      <!-- 0.008 -->\n      <g transform=\"translate(20.878125 43.693439)scale(0.1 -0.1)\">\n       <defs>\n        <path d=\"M 31.78125 34.625 \nQ 24.75 34.625 20.71875 30.859375 \nQ 16.703125 27.09375 16.703125 20.515625 \nQ 16.703125 13.921875 20.71875 10.15625 \nQ 24.75 6.390625 31.78125 6.390625 \nQ 38.8125 6.390625 42.859375 10.171875 \nQ 46.921875 13.96875 46.921875 20.515625 \nQ 46.921875 27.09375 42.890625 30.859375 \nQ 38.875 34.625 31.78125 34.625 \nz\nM 21.921875 38.8125 \nQ 15.578125 40.375 12.03125 44.71875 \nQ 8.5 49.078125 8.5 55.328125 \nQ 8.5 64.0625 14.71875 69.140625 \nQ 20.953125 74.21875 31.78125 74.21875 \nQ 42.671875 74.21875 48.875 69.140625 \nQ 55.078125 64.0625 55.078125 55.328125 \nQ 55.078125 49.078125 51.53125 44.71875 \nQ 48 40.375 41.703125 38.8125 \nQ 48.828125 37.15625 52.796875 32.3125 \nQ 56.78125 27.484375 56.78125 20.515625 \nQ 56.78125 9.90625 50.3125 4.234375 \nQ 43.84375 -1.421875 31.78125 -1.421875 \nQ 19.734375 -1.421875 13.25 4.234375 \nQ 6.78125 9.90625 6.78125 20.515625 \nQ 6.78125 27.484375 10.78125 32.3125 \nQ 14.796875 37.15625 21.921875 38.8125 \nz\nM 18.3125 54.390625 \nQ 18.3125 48.734375 21.84375 45.5625 \nQ 25.390625 42.390625 31.78125 42.390625 \nQ 38.140625 42.390625 41.71875 45.5625 \nQ 45.3125 48.734375 45.3125 54.390625 \nQ 45.3125 60.0625 41.71875 63.234375 \nQ 38.140625 66.40625 31.78125 66.40625 \nQ 25.390625 66.40625 21.84375 63.234375 \nQ 18.3125 60.0625 18.3125 54.390625 \nz\n\" id=\"DejaVuSans-56\"/>\n       </defs>\n       <use xlink:href=\"#DejaVuSans-48\"/>\n       <use x=\"63.623047\" xlink:href=\"#DejaVuSans-46\"/>\n       <use x=\"95.410156\" xlink:href=\"#DejaVuSans-48\"/>\n       <use x=\"159.033203\" xlink:href=\"#DejaVuSans-48\"/>\n       <use x=\"222.65625\" xlink:href=\"#DejaVuSans-56\"/>\n      </g>\n     </g>\n    </g>\n    <g id=\"text_12\">\n     <!-- Density -->\n     <g transform=\"translate(14.798437 134.928594)rotate(-90)scale(0.1 -0.1)\">\n      <defs>\n       <path d=\"M 19.671875 64.796875 \nL 19.671875 8.109375 \nL 31.59375 8.109375 \nQ 46.6875 8.109375 53.6875 14.9375 \nQ 60.6875 21.78125 60.6875 36.53125 \nQ 60.6875 51.171875 53.6875 57.984375 \nQ 46.6875 64.796875 31.59375 64.796875 \nz\nM 9.8125 72.90625 \nL 30.078125 72.90625 \nQ 51.265625 72.90625 61.171875 64.09375 \nQ 71.09375 55.28125 71.09375 36.53125 \nQ 71.09375 17.671875 61.125 8.828125 \nQ 51.171875 0 30.078125 0 \nL 9.8125 0 \nz\n\" id=\"DejaVuSans-68\"/>\n       <path d=\"M 56.203125 29.59375 \nL 56.203125 25.203125 \nL 14.890625 25.203125 \nQ 15.484375 15.921875 20.484375 11.0625 \nQ 25.484375 6.203125 34.421875 6.203125 \nQ 39.59375 6.203125 44.453125 7.46875 \nQ 49.3125 8.734375 54.109375 11.28125 \nL 54.109375 2.78125 \nQ 49.265625 0.734375 44.1875 -0.34375 \nQ 39.109375 -1.421875 33.890625 -1.421875 \nQ 20.796875 -1.421875 13.15625 6.1875 \nQ 5.515625 13.8125 5.515625 26.8125 \nQ 5.515625 40.234375 12.765625 48.109375 \nQ 20.015625 56 32.328125 56 \nQ 43.359375 56 49.78125 48.890625 \nQ 56.203125 41.796875 56.203125 29.59375 \nz\nM 47.21875 32.234375 \nQ 47.125 39.59375 43.09375 43.984375 \nQ 39.0625 48.390625 32.421875 48.390625 \nQ 24.90625 48.390625 20.390625 44.140625 \nQ 15.875 39.890625 15.1875 32.171875 \nz\n\" id=\"DejaVuSans-101\"/>\n       <path d=\"M 54.890625 33.015625 \nL 54.890625 0 \nL 45.90625 0 \nL 45.90625 32.71875 \nQ 45.90625 40.484375 42.875 44.328125 \nQ 39.84375 48.1875 33.796875 48.1875 \nQ 26.515625 48.1875 22.3125 43.546875 \nQ 18.109375 38.921875 18.109375 30.90625 \nL 18.109375 0 \nL 9.078125 0 \nL 9.078125 54.6875 \nL 18.109375 54.6875 \nL 18.109375 46.1875 \nQ 21.34375 51.125 25.703125 53.5625 \nQ 30.078125 56 35.796875 56 \nQ 45.21875 56 50.046875 50.171875 \nQ 54.890625 44.34375 54.890625 33.015625 \nz\n\" id=\"DejaVuSans-110\"/>\n       <path d=\"M 44.28125 53.078125 \nL 44.28125 44.578125 \nQ 40.484375 46.53125 36.375 47.5 \nQ 32.28125 48.484375 27.875 48.484375 \nQ 21.1875 48.484375 17.84375 46.4375 \nQ 14.5 44.390625 14.5 40.28125 \nQ 14.5 37.15625 16.890625 35.375 \nQ 19.28125 33.59375 26.515625 31.984375 \nL 29.59375 31.296875 \nQ 39.15625 29.25 43.1875 25.515625 \nQ 47.21875 21.78125 47.21875 15.09375 \nQ 47.21875 7.46875 41.1875 3.015625 \nQ 35.15625 -1.421875 24.609375 -1.421875 \nQ 20.21875 -1.421875 15.453125 -0.5625 \nQ 10.6875 0.296875 5.421875 2 \nL 5.421875 11.28125 \nQ 10.40625 8.6875 15.234375 7.390625 \nQ 20.0625 6.109375 24.8125 6.109375 \nQ 31.15625 6.109375 34.5625 8.28125 \nQ 37.984375 10.453125 37.984375 14.40625 \nQ 37.984375 18.0625 35.515625 20.015625 \nQ 33.0625 21.96875 24.703125 23.78125 \nL 21.578125 24.515625 \nQ 13.234375 26.265625 9.515625 29.90625 \nQ 5.8125 33.546875 5.8125 39.890625 \nQ 5.8125 47.609375 11.28125 51.796875 \nQ 16.75 56 26.8125 56 \nQ 31.78125 56 36.171875 55.265625 \nQ 40.578125 54.546875 44.28125 53.078125 \nz\n\" id=\"DejaVuSans-115\"/>\n       <path d=\"M 9.421875 54.6875 \nL 18.40625 54.6875 \nL 18.40625 0 \nL 9.421875 0 \nz\nM 9.421875 75.984375 \nL 18.40625 75.984375 \nL 18.40625 64.59375 \nL 9.421875 64.59375 \nz\n\" id=\"DejaVuSans-105\"/>\n       <path d=\"M 18.3125 70.21875 \nL 18.3125 54.6875 \nL 36.8125 54.6875 \nL 36.8125 47.703125 \nL 18.3125 47.703125 \nL 18.3125 18.015625 \nQ 18.3125 11.328125 20.140625 9.421875 \nQ 21.96875 7.515625 27.59375 7.515625 \nL 36.8125 7.515625 \nL 36.8125 0 \nL 27.59375 0 \nQ 17.1875 0 13.234375 3.875 \nQ 9.28125 7.765625 9.28125 18.015625 \nL 9.28125 47.703125 \nL 2.6875 47.703125 \nL 2.6875 54.6875 \nL 9.28125 54.6875 \nL 9.28125 70.21875 \nz\n\" id=\"DejaVuSans-116\"/>\n       <path d=\"M 32.171875 -5.078125 \nQ 28.375 -14.84375 24.75 -17.8125 \nQ 21.140625 -20.796875 15.09375 -20.796875 \nL 7.90625 -20.796875 \nL 7.90625 -13.28125 \nL 13.1875 -13.28125 \nQ 16.890625 -13.28125 18.9375 -11.515625 \nQ 21 -9.765625 23.484375 -3.21875 \nL 25.09375 0.875 \nL 2.984375 54.6875 \nL 12.5 54.6875 \nL 29.59375 11.921875 \nL 46.6875 54.6875 \nL 56.203125 54.6875 \nz\n\" id=\"DejaVuSans-121\"/>\n      </defs>\n      <use xlink:href=\"#DejaVuSans-68\"/>\n      <use x=\"77.001953\" xlink:href=\"#DejaVuSans-101\"/>\n      <use x=\"138.525391\" xlink:href=\"#DejaVuSans-110\"/>\n      <use x=\"201.904297\" xlink:href=\"#DejaVuSans-115\"/>\n      <use x=\"254.003906\" xlink:href=\"#DejaVuSans-105\"/>\n      <use x=\"281.787109\" xlink:href=\"#DejaVuSans-116\"/>\n      <use x=\"320.996094\" xlink:href=\"#DejaVuSans-121\"/>\n     </g>\n    </g>\n   </g>\n   <g id=\"line2d_12\">\n    <path clip-path=\"url(#pffeaea74e8)\" d=\"M 71.724432 214.715898 \nL 82.692491 214.524976 \nL 89.090525 214.196879 \nL 93.66055 213.757584 \nL 97.621238 213.159128 \nL 100.972589 212.434101 \nL 104.019272 211.550463 \nL 106.761287 210.53109 \nL 109.503302 209.25962 \nL 111.940648 207.884992 \nL 114.377994 206.24969 \nL 116.815341 204.324001 \nL 119.252687 202.078448 \nL 121.385365 199.828589 \nL 123.822712 196.906818 \nL 126.260058 193.586276 \nL 128.697405 189.843012 \nL 131.134751 185.655665 \nL 133.572098 181.00606 \nL 136.009444 175.880006 \nL 138.446791 170.268367 \nL 141.188805 163.371848 \nL 143.93082 155.866613 \nL 146.977503 146.846273 \nL 150.328854 136.176797 \nL 154.289542 122.763337 \nL 166.476275 80.803911 \nL 168.913621 73.466368 \nL 171.046299 67.683708 \nL 172.874309 63.303725 \nL 174.702319 59.538044 \nL 176.22566 56.921251 \nL 177.444334 55.196224 \nL 178.663007 53.817196 \nL 179.88168 52.798923 \nL 180.795685 52.27946 \nL 181.70969 51.974104 \nL 182.623695 51.88617 \nL 183.5377 52.018044 \nL 184.451705 52.371153 \nL 185.365709 52.945934 \nL 186.279714 53.741827 \nL 187.498388 55.144105 \nL 188.717061 56.930045 \nL 189.935734 59.089984 \nL 191.459076 62.296173 \nL 192.982417 66.035379 \nL 194.810427 71.172264 \nL 196.943105 77.963339 \nL 199.380451 86.605461 \nL 202.122466 97.176031 \nL 206.387822 114.616167 \nL 212.17652 138.208549 \nL 215.223203 149.755512 \nL 217.965218 159.298006 \nL 220.402564 166.973042 \nL 222.535243 173.006333 \nL 224.667921 178.375305 \nL 226.495931 182.442675 \nL 228.32394 186.021644 \nL 230.15195 189.125171 \nL 231.97996 191.77286 \nL 233.80797 193.989799 \nL 235.63598 195.805403 \nL 237.159321 197.035302 \nL 238.987331 198.201481 \nL 240.815341 199.063736 \nL 242.643351 199.658439 \nL 244.471361 200.021667 \nL 246.604039 200.199635 \nL 249.041385 200.143543 \nL 251.7834 199.836219 \nL 255.43942 199.174741 \nL 268.844825 196.50316 \nL 273.110181 195.977316 \nL 277.375537 195.66615 \nL 281.640894 195.566579 \nL 285.90625 195.679685 \nL 290.171606 196.019494 \nL 294.132294 196.559826 \nL 298.092982 197.337891 \nL 301.749002 198.276878 \nL 305.70969 199.526736 \nL 309.975046 201.10874 \nL 315.459076 203.391614 \nL 326.731803 208.150846 \nL 331.301827 209.806863 \nL 335.567184 211.114226 \nL 339.527872 212.105514 \nL 343.793228 212.940004 \nL 348.363252 213.594612 \nL 353.542614 214.092486 \nL 359.63598 214.437147 \nL 367.557356 214.647815 \nL 376.088068 214.728514 \nL 376.088068 214.728514 \n\" style=\"fill:none;stroke:#1f77b4;stroke-linecap:square;stroke-width:1.5;\"/>\n   </g>\n   <g id=\"line2d_13\">\n    <path clip-path=\"url(#pffeaea74e8)\" d=\"M 71.724432 214.755643 \nL 89.699862 214.63151 \nL 96.402564 214.371055 \nL 100.972589 213.987248 \nL 104.628609 213.474311 \nL 107.97996 212.772221 \nL 110.721975 211.981591 \nL 113.46399 210.949852 \nL 115.901336 209.79338 \nL 118.338682 208.377804 \nL 120.471361 206.90167 \nL 122.604039 205.182614 \nL 124.736717 203.201609 \nL 126.869395 200.940899 \nL 129.002073 198.383763 \nL 131.134751 195.513988 \nL 133.572098 191.830195 \nL 136.009444 187.689629 \nL 138.446791 183.061236 \nL 140.884137 177.908069 \nL 143.321483 172.186579 \nL 145.75883 165.847494 \nL 148.196176 158.83883 \nL 150.633523 151.111401 \nL 153.070869 142.626903 \nL 155.508216 133.368208 \nL 158.25023 122.048099 \nL 161.296913 108.460142 \nL 165.257601 89.642102 \nL 171.960304 57.631373 \nL 174.39765 47.098141 \nL 176.530329 38.875889 \nL 178.358338 32.786526 \nL 179.88168 28.513523 \nL 181.100353 25.682414 \nL 182.319026 23.416222 \nL 183.233031 22.108027 \nL 184.147036 21.149105 \nL 185.061041 20.549627 \nL 185.670378 20.353707 \nL 186.279714 20.322946 \nL 186.889051 20.458687 \nL 187.498388 20.761797 \nL 188.412393 21.53099 \nL 189.326397 22.676759 \nL 190.240402 24.195869 \nL 191.154407 26.082619 \nL 192.37308 29.155784 \nL 193.591754 32.842078 \nL 195.115095 38.261648 \nL 196.638437 44.509625 \nL 198.466447 52.970928 \nL 200.599125 63.943106 \nL 203.341139 79.310483 \nL 214.00453 140.639168 \nL 216.441877 152.742993 \nL 218.574555 162.303968 \nL 220.707233 170.820665 \nL 222.535243 177.262631 \nL 224.363252 182.912827 \nL 226.191262 187.789978 \nL 227.714604 191.287293 \nL 229.237945 194.295822 \nL 230.761287 196.844958 \nL 232.284628 198.967092 \nL 233.80797 200.696583 \nL 235.331311 202.068851 \nL 236.854653 203.119616 \nL 238.377994 203.884272 \nL 239.901336 204.397388 \nL 241.424678 204.69232 \nL 243.252687 204.802971 \nL 245.080697 204.696983 \nL 247.213375 204.363143 \nL 249.95539 203.705931 \nL 254.830083 202.257762 \nL 259.704776 200.881244 \nL 263.360795 200.07959 \nL 266.712147 199.562305 \nL 270.368166 199.21869 \nL 274.938191 199.027791 \nL 282.554899 198.97505 \nL 290.476275 199.088701 \nL 294.741631 199.360143 \nL 298.39765 199.823654 \nL 301.749002 200.488667 \nL 305.100353 201.401831 \nL 308.451705 202.548655 \nL 312.412393 204.142103 \nL 327.341139 210.423926 \nL 330.997159 211.590966 \nL 334.653179 212.530558 \nL 338.309198 213.250601 \nL 342.269886 213.812819 \nL 346.839911 214.236949 \nL 352.628609 214.533746 \nL 360.549985 214.698178 \nL 376.088068 214.756364 \nL 376.088068 214.756364 \n\" style=\"fill:none;stroke:#ff0000;stroke-linecap:square;stroke-width:1.5;\"/>\n   </g>\n   <g id=\"line2d_14\">\n    <path clip-path=\"url(#pffeaea74e8)\" d=\"M 71.724432 214.75546 \nL 89.395193 214.634417 \nL 96.097896 214.380052 \nL 100.667921 214.004863 \nL 104.32394 213.502693 \nL 107.675292 212.813987 \nL 110.417307 212.036634 \nL 113.159321 211.019459 \nL 115.596668 209.875688 \nL 118.034014 208.470529 \nL 120.166692 206.99929 \nL 122.29937 205.278274 \nL 124.432049 203.284784 \nL 126.564727 200.996434 \nL 128.697405 198.390857 \nL 130.830083 195.44518 \nL 132.962761 192.135297 \nL 135.095439 188.435072 \nL 137.228117 184.3156 \nL 139.360795 179.744753 \nL 141.493474 174.687243 \nL 143.626152 169.105442 \nL 145.75883 162.961182 \nL 148.196176 155.204807 \nL 150.633523 146.624818 \nL 153.070869 137.200107 \nL 155.812884 125.604376 \nL 158.554899 113.043544 \nL 161.90625 96.652723 \nL 171.046299 51.241039 \nL 173.178977 41.958589 \nL 175.006987 34.860406 \nL 176.530329 29.687851 \nL 178.05367 25.294503 \nL 179.272343 22.40049 \nL 180.491017 20.101626 \nL 181.405021 18.788776 \nL 182.319026 17.842008 \nL 183.233031 17.271136 \nL 183.842368 17.103177 \nL 184.451705 17.107273 \nL 185.061041 17.284546 \nL 185.670378 17.635618 \nL 186.584383 18.488205 \nL 187.498388 19.730197 \nL 188.412393 21.357231 \nL 189.631066 24.113237 \nL 190.849739 27.517893 \nL 192.068412 31.540418 \nL 193.591754 37.379343 \nL 195.419764 45.458046 \nL 197.552442 56.137736 \nL 199.989788 69.614563 \nL 203.645808 91.327358 \nL 209.434506 125.807717 \nL 212.17652 140.851037 \nL 214.613867 153.052094 \nL 216.746545 162.671151 \nL 218.879223 171.228317 \nL 220.707233 177.696202 \nL 222.535243 183.368309 \nL 224.363252 188.266551 \nL 225.886594 191.78258 \nL 227.409936 194.811895 \nL 228.933277 197.384431 \nL 230.456619 199.532728 \nL 231.97996 201.290923 \nL 233.503302 202.693887 \nL 235.026643 203.776514 \nL 236.549985 204.573148 \nL 238.073326 205.11715 \nL 239.596668 205.440573 \nL 241.424678 205.580385 \nL 243.252687 205.496002 \nL 245.385365 205.175226 \nL 248.12738 204.512036 \nL 252.088068 203.284656 \nL 258.790771 201.194617 \nL 262.446791 200.30776 \nL 265.798142 199.717857 \nL 269.454162 199.308137 \nL 273.719518 199.071289 \nL 280.117552 198.978727 \nL 289.257601 199.057171 \nL 293.827626 199.297007 \nL 297.483646 199.704935 \nL 300.834997 200.306441 \nL 304.186348 201.151455 \nL 307.5377 202.23426 \nL 311.498388 203.768737 \nL 317.287085 206.29157 \nL 323.989788 209.155329 \nL 328.255144 210.719077 \nL 331.911164 211.828967 \nL 335.567184 212.713173 \nL 339.527872 213.431239 \nL 343.793228 213.966457 \nL 348.667921 214.34691 \nL 355.065955 214.601665 \nL 364.510673 214.72849 \nL 376.088068 214.756225 \nL 376.088068 214.756225 \n\" style=\"fill:none;stroke:#008000;stroke-linecap:square;stroke-width:1.5;\"/>\n   </g>\n   <g id=\"patch_3\">\n    <path d=\"M 56.50625 224.64 \nL 56.50625 7.2 \n\" style=\"fill:none;stroke:#000000;stroke-linecap:square;stroke-linejoin:miter;stroke-width:0.8;\"/>\n   </g>\n   <g id=\"patch_4\">\n    <path d=\"M 391.30625 224.64 \nL 391.30625 7.2 \n\" style=\"fill:none;stroke:#000000;stroke-linecap:square;stroke-linejoin:miter;stroke-width:0.8;\"/>\n   </g>\n   <g id=\"patch_5\">\n    <path d=\"M 56.50625 224.64 \nL 391.30625 224.64 \n\" style=\"fill:none;stroke:#000000;stroke-linecap:square;stroke-linejoin:miter;stroke-width:0.8;\"/>\n   </g>\n   <g id=\"patch_6\">\n    <path d=\"M 56.50625 7.2 \nL 391.30625 7.2 \n\" style=\"fill:none;stroke:#000000;stroke-linecap:square;stroke-linejoin:miter;stroke-width:0.8;\"/>\n   </g>\n   <g id=\"legend_1\">\n    <g id=\"patch_7\">\n     <path d=\"M 251.821875 59.790625 \nL 384.30625 59.790625 \nQ 386.30625 59.790625 386.30625 57.790625 \nL 386.30625 14.2 \nQ 386.30625 12.2 384.30625 12.2 \nL 251.821875 12.2 \nQ 249.821875 12.2 249.821875 14.2 \nL 249.821875 57.790625 \nQ 249.821875 59.790625 251.821875 59.790625 \nz\n\" style=\"fill:#ffffff;opacity:0.8;stroke:#cccccc;stroke-linejoin:miter;\"/>\n    </g>\n    <g id=\"line2d_15\">\n     <path d=\"M 253.821875 20.298437 \nL 273.821875 20.298437 \n\" style=\"fill:none;stroke:#1f77b4;stroke-linecap:square;stroke-width:1.5;\"/>\n    </g>\n    <g id=\"line2d_16\"/>\n    <g id=\"text_13\">\n     <!-- score -->\n     <g transform=\"translate(281.821875 23.798437)scale(0.1 -0.1)\">\n      <defs>\n       <path d=\"M 48.78125 52.59375 \nL 48.78125 44.1875 \nQ 44.96875 46.296875 41.140625 47.34375 \nQ 37.3125 48.390625 33.40625 48.390625 \nQ 24.65625 48.390625 19.8125 42.84375 \nQ 14.984375 37.3125 14.984375 27.296875 \nQ 14.984375 17.28125 19.8125 11.734375 \nQ 24.65625 6.203125 33.40625 6.203125 \nQ 37.3125 6.203125 41.140625 7.25 \nQ 44.96875 8.296875 48.78125 10.40625 \nL 48.78125 2.09375 \nQ 45.015625 0.34375 40.984375 -0.53125 \nQ 36.96875 -1.421875 32.421875 -1.421875 \nQ 20.0625 -1.421875 12.78125 6.34375 \nQ 5.515625 14.109375 5.515625 27.296875 \nQ 5.515625 40.671875 12.859375 48.328125 \nQ 20.21875 56 33.015625 56 \nQ 37.15625 56 41.109375 55.140625 \nQ 45.0625 54.296875 48.78125 52.59375 \nz\n\" id=\"DejaVuSans-99\"/>\n       <path d=\"M 30.609375 48.390625 \nQ 23.390625 48.390625 19.1875 42.75 \nQ 14.984375 37.109375 14.984375 27.296875 \nQ 14.984375 17.484375 19.15625 11.84375 \nQ 23.34375 6.203125 30.609375 6.203125 \nQ 37.796875 6.203125 41.984375 11.859375 \nQ 46.1875 17.53125 46.1875 27.296875 \nQ 46.1875 37.015625 41.984375 42.703125 \nQ 37.796875 48.390625 30.609375 48.390625 \nz\nM 30.609375 56 \nQ 42.328125 56 49.015625 48.375 \nQ 55.71875 40.765625 55.71875 27.296875 \nQ 55.71875 13.875 49.015625 6.21875 \nQ 42.328125 -1.421875 30.609375 -1.421875 \nQ 18.84375 -1.421875 12.171875 6.21875 \nQ 5.515625 13.875 5.515625 27.296875 \nQ 5.515625 40.765625 12.171875 48.375 \nQ 18.84375 56 30.609375 56 \nz\n\" id=\"DejaVuSans-111\"/>\n       <path d=\"M 41.109375 46.296875 \nQ 39.59375 47.171875 37.8125 47.578125 \nQ 36.03125 48 33.890625 48 \nQ 26.265625 48 22.1875 43.046875 \nQ 18.109375 38.09375 18.109375 28.8125 \nL 18.109375 0 \nL 9.078125 0 \nL 9.078125 54.6875 \nL 18.109375 54.6875 \nL 18.109375 46.1875 \nQ 20.953125 51.171875 25.484375 53.578125 \nQ 30.03125 56 36.53125 56 \nQ 37.453125 56 38.578125 55.875 \nQ 39.703125 55.765625 41.0625 55.515625 \nz\n\" id=\"DejaVuSans-114\"/>\n      </defs>\n      <use xlink:href=\"#DejaVuSans-115\"/>\n      <use x=\"52.099609\" xlink:href=\"#DejaVuSans-99\"/>\n      <use x=\"107.080078\" xlink:href=\"#DejaVuSans-111\"/>\n      <use x=\"168.261719\" xlink:href=\"#DejaVuSans-114\"/>\n      <use x=\"207.125\" xlink:href=\"#DejaVuSans-101\"/>\n     </g>\n    </g>\n    <g id=\"line2d_17\">\n     <path d=\"M 253.821875 34.976562 \nL 273.821875 34.976562 \n\" style=\"fill:none;stroke:#ff0000;stroke-linecap:square;stroke-width:1.5;\"/>\n    </g>\n    <g id=\"line2d_18\"/>\n    <g id=\"text_14\">\n     <!-- score_mean_norm -->\n     <g transform=\"translate(281.821875 38.476562)scale(0.1 -0.1)\">\n      <defs>\n       <path d=\"M 50.984375 -16.609375 \nL 50.984375 -23.578125 \nL -0.984375 -23.578125 \nL -0.984375 -16.609375 \nz\n\" id=\"DejaVuSans-95\"/>\n       <path d=\"M 52 44.1875 \nQ 55.375 50.25 60.0625 53.125 \nQ 64.75 56 71.09375 56 \nQ 79.640625 56 84.28125 50.015625 \nQ 88.921875 44.046875 88.921875 33.015625 \nL 88.921875 0 \nL 79.890625 0 \nL 79.890625 32.71875 \nQ 79.890625 40.578125 77.09375 44.375 \nQ 74.3125 48.1875 68.609375 48.1875 \nQ 61.625 48.1875 57.5625 43.546875 \nQ 53.515625 38.921875 53.515625 30.90625 \nL 53.515625 0 \nL 44.484375 0 \nL 44.484375 32.71875 \nQ 44.484375 40.625 41.703125 44.40625 \nQ 38.921875 48.1875 33.109375 48.1875 \nQ 26.21875 48.1875 22.15625 43.53125 \nQ 18.109375 38.875 18.109375 30.90625 \nL 18.109375 0 \nL 9.078125 0 \nL 9.078125 54.6875 \nL 18.109375 54.6875 \nL 18.109375 46.1875 \nQ 21.1875 51.21875 25.484375 53.609375 \nQ 29.78125 56 35.6875 56 \nQ 41.65625 56 45.828125 52.96875 \nQ 50 49.953125 52 44.1875 \nz\n\" id=\"DejaVuSans-109\"/>\n       <path d=\"M 34.28125 27.484375 \nQ 23.390625 27.484375 19.1875 25 \nQ 14.984375 22.515625 14.984375 16.5 \nQ 14.984375 11.71875 18.140625 8.90625 \nQ 21.296875 6.109375 26.703125 6.109375 \nQ 34.1875 6.109375 38.703125 11.40625 \nQ 43.21875 16.703125 43.21875 25.484375 \nL 43.21875 27.484375 \nz\nM 52.203125 31.203125 \nL 52.203125 0 \nL 43.21875 0 \nL 43.21875 8.296875 \nQ 40.140625 3.328125 35.546875 0.953125 \nQ 30.953125 -1.421875 24.3125 -1.421875 \nQ 15.921875 -1.421875 10.953125 3.296875 \nQ 6 8.015625 6 15.921875 \nQ 6 25.140625 12.171875 29.828125 \nQ 18.359375 34.515625 30.609375 34.515625 \nL 43.21875 34.515625 \nL 43.21875 35.40625 \nQ 43.21875 41.609375 39.140625 45 \nQ 35.0625 48.390625 27.6875 48.390625 \nQ 23 48.390625 18.546875 47.265625 \nQ 14.109375 46.140625 10.015625 43.890625 \nL 10.015625 52.203125 \nQ 14.9375 54.109375 19.578125 55.046875 \nQ 24.21875 56 28.609375 56 \nQ 40.484375 56 46.34375 49.84375 \nQ 52.203125 43.703125 52.203125 31.203125 \nz\n\" id=\"DejaVuSans-97\"/>\n      </defs>\n      <use xlink:href=\"#DejaVuSans-115\"/>\n      <use x=\"52.099609\" xlink:href=\"#DejaVuSans-99\"/>\n      <use x=\"107.080078\" xlink:href=\"#DejaVuSans-111\"/>\n      <use x=\"168.261719\" xlink:href=\"#DejaVuSans-114\"/>\n      <use x=\"207.125\" xlink:href=\"#DejaVuSans-101\"/>\n      <use x=\"268.648438\" xlink:href=\"#DejaVuSans-95\"/>\n      <use x=\"318.648438\" xlink:href=\"#DejaVuSans-109\"/>\n      <use x=\"416.060547\" xlink:href=\"#DejaVuSans-101\"/>\n      <use x=\"477.583984\" xlink:href=\"#DejaVuSans-97\"/>\n      <use x=\"538.863281\" xlink:href=\"#DejaVuSans-110\"/>\n      <use x=\"602.242188\" xlink:href=\"#DejaVuSans-95\"/>\n      <use x=\"652.242188\" xlink:href=\"#DejaVuSans-110\"/>\n      <use x=\"715.621094\" xlink:href=\"#DejaVuSans-111\"/>\n      <use x=\"776.802734\" xlink:href=\"#DejaVuSans-114\"/>\n      <use x=\"816.166016\" xlink:href=\"#DejaVuSans-109\"/>\n     </g>\n    </g>\n    <g id=\"line2d_19\">\n     <path d=\"M 253.821875 49.932812 \nL 273.821875 49.932812 \n\" style=\"fill:none;stroke:#008000;stroke-linecap:square;stroke-width:1.5;\"/>\n    </g>\n    <g id=\"line2d_20\"/>\n    <g id=\"text_15\">\n     <!-- score_median_norm -->\n     <g transform=\"translate(281.821875 53.432812)scale(0.1 -0.1)\">\n      <defs>\n       <path d=\"M 45.40625 46.390625 \nL 45.40625 75.984375 \nL 54.390625 75.984375 \nL 54.390625 0 \nL 45.40625 0 \nL 45.40625 8.203125 \nQ 42.578125 3.328125 38.25 0.953125 \nQ 33.9375 -1.421875 27.875 -1.421875 \nQ 17.96875 -1.421875 11.734375 6.484375 \nQ 5.515625 14.40625 5.515625 27.296875 \nQ 5.515625 40.1875 11.734375 48.09375 \nQ 17.96875 56 27.875 56 \nQ 33.9375 56 38.25 53.625 \nQ 42.578125 51.265625 45.40625 46.390625 \nz\nM 14.796875 27.296875 \nQ 14.796875 17.390625 18.875 11.75 \nQ 22.953125 6.109375 30.078125 6.109375 \nQ 37.203125 6.109375 41.296875 11.75 \nQ 45.40625 17.390625 45.40625 27.296875 \nQ 45.40625 37.203125 41.296875 42.84375 \nQ 37.203125 48.484375 30.078125 48.484375 \nQ 22.953125 48.484375 18.875 42.84375 \nQ 14.796875 37.203125 14.796875 27.296875 \nz\n\" id=\"DejaVuSans-100\"/>\n      </defs>\n      <use xlink:href=\"#DejaVuSans-115\"/>\n      <use x=\"52.099609\" xlink:href=\"#DejaVuSans-99\"/>\n      <use x=\"107.080078\" xlink:href=\"#DejaVuSans-111\"/>\n      <use x=\"168.261719\" xlink:href=\"#DejaVuSans-114\"/>\n      <use x=\"207.125\" xlink:href=\"#DejaVuSans-101\"/>\n      <use x=\"268.648438\" xlink:href=\"#DejaVuSans-95\"/>\n      <use x=\"318.648438\" xlink:href=\"#DejaVuSans-109\"/>\n      <use x=\"416.060547\" xlink:href=\"#DejaVuSans-101\"/>\n      <use x=\"477.583984\" xlink:href=\"#DejaVuSans-100\"/>\n      <use x=\"541.060547\" xlink:href=\"#DejaVuSans-105\"/>\n      <use x=\"568.84375\" xlink:href=\"#DejaVuSans-97\"/>\n      <use x=\"630.123047\" xlink:href=\"#DejaVuSans-110\"/>\n      <use x=\"693.501953\" xlink:href=\"#DejaVuSans-95\"/>\n      <use x=\"743.501953\" xlink:href=\"#DejaVuSans-110\"/>\n      <use x=\"806.880859\" xlink:href=\"#DejaVuSans-111\"/>\n      <use x=\"868.0625\" xlink:href=\"#DejaVuSans-114\"/>\n      <use x=\"907.425781\" xlink:href=\"#DejaVuSans-109\"/>\n     </g>\n    </g>\n   </g>\n  </g>\n </g>\n <defs>\n  <clipPath id=\"pffeaea74e8\">\n   <rect height=\"217.44\" width=\"334.8\" x=\"56.50625\" y=\"7.2\"/>\n  </clipPath>\n </defs>\n</svg>\n",
      "image/png": "[encoded data removed]"
     },
     "metadata": {
      "needs_background": "light"
     }
    }
   ],
   "source": [
    "from matplotlib import pyplot as plt \n",
    "%matplotlib inline\n",
    "fig = plt.figure()\n",
    "ax = fig.add_subplot(111)\n",
    "verify['score'].plot(kind='kde', ax=ax)\n",
    "verify.score_mean_norm.plot(kind='kde', ax=ax, color='red')\n",
    "verify.score_median_norm.plot(kind='kde', ax=ax, color='green')\n",
    "lines, labels = ax.get_legend_handles_labels()\n",
    "ax.legend(lines, labels, loc='best')"
   ]
  },
  {
   "source": [
    "# Mode"
   ],
   "cell_type": "markdown",
   "metadata": {}
  },
  {
   "source": [
    "**3.Mode(Most frequent):**\n",
    "\n",
    "* mode is the value of the variable which occurs most frequently.\n",
    "\n",
    "*Disadvantages*\n",
    "\n",
    "* It is possible to have no mode\n",
    "* It is possible to have morethan one mode\n",
    "\n",
    "*Mode Tells*\n",
    "\n",
    "*  Not much\n",
    "* The most 'popular' answer\n",
    "* The most common result\n",
    "* Not used much\n",
    "* It is used for categorigal value"
   ],
   "cell_type": "markdown",
   "metadata": {}
  },
  {
   "cell_type": "code",
   "execution_count": 155,
   "metadata": {},
   "outputs": [],
   "source": [
    "dic = {'Players': ['Messi',\n",
    "  'Ronaldo',\n",
    "  'Ansufati',\n",
    "  'Haaland',\n",
    "  'Dybala',\n",
    "  'Dest',\n",
    "  'Dembele',\n",
    "  'Arthur',\n",
    "  'FDJ',\n",
    "  'Griezmann'],\n",
    " 'Club': ['Barca',\n",
    "  'Juv',\n",
    "  None,\n",
    "  'Dormund',\n",
    "  'Juv',\n",
    "  None,\n",
    "  'Barca',\n",
    "  'Juv',\n",
    "  'Barca',\n",
    "  'Barca']}"
   ]
  },
  {
   "cell_type": "code",
   "execution_count": 156,
   "metadata": {},
   "outputs": [],
   "source": [
    "data = pd.DataFrame(dic)"
   ]
  },
  {
   "cell_type": "code",
   "execution_count": 157,
   "metadata": {},
   "outputs": [
    {
     "output_type": "execute_result",
     "data": {
      "text/plain": [
       "     Players     Club\n",
       "0      Messi    Barca\n",
       "1    Ronaldo      Juv\n",
       "2   Ansufati     None\n",
       "3    Haaland  Dormund\n",
       "4     Dybala      Juv\n",
       "5       Dest     None\n",
       "6    Dembele    Barca\n",
       "7     Arthur      Juv\n",
       "8        FDJ    Barca\n",
       "9  Griezmann    Barca"
      ],
      "text/html": "<div>\n<style scoped>\n    .dataframe tbody tr th:only-of-type {\n        vertical-align: middle;\n    }\n\n    .dataframe tbody tr th {\n        vertical-align: top;\n    }\n\n    .dataframe thead th {\n        text-align: right;\n    }\n</style>\n<table border=\"1\" class=\"dataframe\">\n  <thead>\n    <tr style=\"text-align: right;\">\n      <th></th>\n      <th>Players</th>\n      <th>Club</th>\n    </tr>\n  </thead>\n  <tbody>\n    <tr>\n      <th>0</th>\n      <td>Messi</td>\n      <td>Barca</td>\n    </tr>\n    <tr>\n      <th>1</th>\n      <td>Ronaldo</td>\n      <td>Juv</td>\n    </tr>\n    <tr>\n      <th>2</th>\n      <td>Ansufati</td>\n      <td>None</td>\n    </tr>\n    <tr>\n      <th>3</th>\n      <td>Haaland</td>\n      <td>Dormund</td>\n    </tr>\n    <tr>\n      <th>4</th>\n      <td>Dybala</td>\n      <td>Juv</td>\n    </tr>\n    <tr>\n      <th>5</th>\n      <td>Dest</td>\n      <td>None</td>\n    </tr>\n    <tr>\n      <th>6</th>\n      <td>Dembele</td>\n      <td>Barca</td>\n    </tr>\n    <tr>\n      <th>7</th>\n      <td>Arthur</td>\n      <td>Juv</td>\n    </tr>\n    <tr>\n      <th>8</th>\n      <td>FDJ</td>\n      <td>Barca</td>\n    </tr>\n    <tr>\n      <th>9</th>\n      <td>Griezmann</td>\n      <td>Barca</td>\n    </tr>\n  </tbody>\n</table>\n</div>"
     },
     "metadata": {},
     "execution_count": 157
    }
   ],
   "source": [
    "data"
   ]
  },
  {
   "cell_type": "code",
   "execution_count": 158,
   "metadata": {},
   "outputs": [
    {
     "output_type": "execute_result",
     "data": {
      "text/plain": [
       "0    Barca\n",
       "dtype: object"
      ]
     },
     "metadata": {},
     "execution_count": 158
    }
   ],
   "source": [
    "data[\"Club\"].mode()"
   ]
  },
  {
   "cell_type": "code",
   "execution_count": 163,
   "metadata": {},
   "outputs": [
    {
     "output_type": "execute_result",
     "data": {
      "text/plain": [
       "     Players     Club club_mode_norm\n",
       "0      Messi    Barca          Barca\n",
       "1    Ronaldo      Juv            Juv\n",
       "2   Ansufati     None          Barca\n",
       "3    Haaland  Dormund        Dormund\n",
       "4     Dybala      Juv            Juv\n",
       "5       Dest     None          Barca\n",
       "6    Dembele    Barca          Barca\n",
       "7     Arthur      Juv            Juv\n",
       "8        FDJ    Barca          Barca\n",
       "9  Griezmann    Barca          Barca"
      ],
      "text/html": "<div>\n<style scoped>\n    .dataframe tbody tr th:only-of-type {\n        vertical-align: middle;\n    }\n\n    .dataframe tbody tr th {\n        vertical-align: top;\n    }\n\n    .dataframe thead th {\n        text-align: right;\n    }\n</style>\n<table border=\"1\" class=\"dataframe\">\n  <thead>\n    <tr style=\"text-align: right;\">\n      <th></th>\n      <th>Players</th>\n      <th>Club</th>\n      <th>club_mode_norm</th>\n    </tr>\n  </thead>\n  <tbody>\n    <tr>\n      <th>0</th>\n      <td>Messi</td>\n      <td>Barca</td>\n      <td>Barca</td>\n    </tr>\n    <tr>\n      <th>1</th>\n      <td>Ronaldo</td>\n      <td>Juv</td>\n      <td>Juv</td>\n    </tr>\n    <tr>\n      <th>2</th>\n      <td>Ansufati</td>\n      <td>None</td>\n      <td>Barca</td>\n    </tr>\n    <tr>\n      <th>3</th>\n      <td>Haaland</td>\n      <td>Dormund</td>\n      <td>Dormund</td>\n    </tr>\n    <tr>\n      <th>4</th>\n      <td>Dybala</td>\n      <td>Juv</td>\n      <td>Juv</td>\n    </tr>\n    <tr>\n      <th>5</th>\n      <td>Dest</td>\n      <td>None</td>\n      <td>Barca</td>\n    </tr>\n    <tr>\n      <th>6</th>\n      <td>Dembele</td>\n      <td>Barca</td>\n      <td>Barca</td>\n    </tr>\n    <tr>\n      <th>7</th>\n      <td>Arthur</td>\n      <td>Juv</td>\n      <td>Juv</td>\n    </tr>\n    <tr>\n      <th>8</th>\n      <td>FDJ</td>\n      <td>Barca</td>\n      <td>Barca</td>\n    </tr>\n    <tr>\n      <th>9</th>\n      <td>Griezmann</td>\n      <td>Barca</td>\n      <td>Barca</td>\n    </tr>\n  </tbody>\n</table>\n</div>"
     },
     "metadata": {},
     "execution_count": 163
    }
   ],
   "source": [
    "#By Normal\n",
    "data['club_mode_norm'] = data['Club'].fillna(data['Club'].mode()[0])\n",
    "data"
   ]
  },
  {
   "cell_type": "code",
   "execution_count": 165,
   "metadata": {},
   "outputs": [
    {
     "output_type": "stream",
     "name": "stdout",
     "text": [
      "0    Barca\ndtype: object\n     Players     Club club_mode_norm Club_mode_byfunc\n0      Messi    Barca          Barca            Barca\n1    Ronaldo      Juv            Juv              Juv\n2   Ansufati     None          Barca            Barca\n3    Haaland  Dormund        Dormund          Dormund\n4     Dybala      Juv            Juv              Juv\n5       Dest     None          Barca            Barca\n6    Dembele    Barca          Barca            Barca\n7     Arthur      Juv            Juv              Juv\n8        FDJ    Barca          Barca            Barca\n9  Griezmann    Barca          Barca            Barca\n"
     ]
    }
   ],
   "source": [
    "#By function (For reuse)\n",
    "def impute_nan(data,variable,mode):\n",
    "    data[variable+'_mode_byfunc'] = data[variable].fillna(mode[0])\n",
    "\n",
    "mode = data['Club'].mode()\n",
    "print(mode)\n",
    "impute_nan(data,'Club',mode)\n",
    "print(data)"
   ]
  },
  {
   "cell_type": "code",
   "execution_count": null,
   "metadata": {},
   "outputs": [],
   "source": []
  }
 ]
}