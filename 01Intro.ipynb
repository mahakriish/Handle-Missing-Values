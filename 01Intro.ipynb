{
 "metadata": {
  "language_info": {
   "codemirror_mode": {
    "name": "ipython",
    "version": 3
   },
   "file_extension": ".py",
   "mimetype": "text/x-python",
   "name": "python",
   "nbconvert_exporter": "python",
   "pygments_lexer": "ipython3",
   "version": "3.8.5-final"
  },
  "orig_nbformat": 2,
  "kernelspec": {
   "name": "python3",
   "display_name": "Python 3.8.5 64-bit ('venv': venv)",
   "metadata": {
    "interpreter": {
     "hash": "8871b0cfa421f95f3389ef11074b19f89c44a2a4994e6dba57b3347b5bec0ff6"
    }
   }
  }
 },
 "nbformat": 4,
 "nbformat_minor": 2,
 "cells": [
  {
   "source": [
    "# Introduction for Missing values"
   ],
   "cell_type": "markdown",
   "metadata": {}
  },
  {
   "source": [
    "** What is  missing values in data? **\n",
    "\n",
    "* Missing values is  when no data value is stored for the variable in an observation.\n",
    "\n",
    "* Missing values  are represent as nan which is short for \"not a number\".\n",
    "\n"
   ],
   "cell_type": "markdown",
   "metadata": {}
  },
  {
   "source": [
    "** What are the reasons for missing values occur in data? **\n",
    "\n",
    "* Sometimes People are hesitate to share their information.\n",
    "\n",
    "*for example*, Mens are hesitate to  share their incomes and Womans are hesitate ton share their ages.\n",
    "\n",
    "* Sometimes missing values are caused by the researcher.\n",
    "\n",
    "*for example*, when data collection is done improperly or mistakes are made in data entry.\n"
   ],
   "cell_type": "markdown",
   "metadata": {}
  },
  {
   "source": [
    "** Why do we need to  treat missing data? **\n",
    "\n",
    "* Missing data in the training data set can reduce the power / fit of a model or can lead to a biased model because we have not analysed the behavior and relationship with other variables correctly. It can lead to wrong prediction or classification.\n",
    "\n"
   ],
   "cell_type": "markdown",
   "metadata": {}
  },
  {
   "source": [
    "** What are different types of missing data? **\n",
    "\n",
    "* 1.Missing completely at random (MCAR)\n",
    "* 2.Missing at random (MAR)\n",
    "* 3.Missing not at random (nonignorable)"
   ],
   "cell_type": "markdown",
   "metadata": {}
  }
 ]
}