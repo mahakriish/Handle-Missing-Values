{
 "metadata": {
  "language_info": {
   "codemirror_mode": {
    "name": "ipython",
    "version": 3
   },
   "file_extension": ".py",
   "mimetype": "text/x-python",
   "name": "python",
   "nbconvert_exporter": "python",
   "pygments_lexer": "ipython3",
   "version": "3.8.5-final"
  },
  "orig_nbformat": 2,
  "kernelspec": {
   "name": "python3",
   "display_name": "Python 3.8.5 64-bit ('venv': venv)",
   "metadata": {
    "interpreter": {
     "hash": "8871b0cfa421f95f3389ef11074b19f89c44a2a4994e6dba57b3347b5bec0ff6"
    }
   }
  }
 },
 "nbformat": 4,
 "nbformat_minor": 2,
 "cells": [
  {
   "source": [
    "# Missing at Random(MAR)"
   ],
   "cell_type": "markdown",
   "metadata": {}
  },
  {
   "source": [
    "** What is Missing at random? **\n",
    "\n",
    "* The data will be missing based on the complete (observed ) variables and not by the characteristics of the missing data itself.\n",
    "* It might be able to predict by using observed variables.\n",
    "\n",
    "*For example,*\n",
    "* If a child does not attend an educational assessment because the child is (genuinely) ill, this might be predictable from other data we have about the child’s health."
   ],
   "cell_type": "markdown",
   "metadata": {}
  },
  {
   "cell_type": "code",
   "execution_count": 1,
   "metadata": {},
   "outputs": [],
   "source": [
    "dic = {\n",
    "    'Gender':['M', 'F', 'M' ,'M','F', 'F','M', 'M', 'F', 'M '],\n",
    "    'Age':[25,'NaN',42,35,'NaN','NaN',56,21,'Nan',19]\n",
    "}"
   ]
  },
  {
   "cell_type": "code",
   "execution_count": 2,
   "metadata": {},
   "outputs": [
    {
     "output_type": "execute_result",
     "data": {
      "text/plain": [
       "  Gender  Age\n",
       "0      M   25\n",
       "1      F  NaN\n",
       "2      M   42\n",
       "3      M   35\n",
       "4      F  NaN\n",
       "5      F  NaN\n",
       "6      M   56\n",
       "7      M   21\n",
       "8      F  Nan\n",
       "9     M    19"
      ],
      "text/html": "<div>\n<style scoped>\n    .dataframe tbody tr th:only-of-type {\n        vertical-align: middle;\n    }\n\n    .dataframe tbody tr th {\n        vertical-align: top;\n    }\n\n    .dataframe thead th {\n        text-align: right;\n    }\n</style>\n<table border=\"1\" class=\"dataframe\">\n  <thead>\n    <tr style=\"text-align: right;\">\n      <th></th>\n      <th>Gender</th>\n      <th>Age</th>\n    </tr>\n  </thead>\n  <tbody>\n    <tr>\n      <th>0</th>\n      <td>M</td>\n      <td>25</td>\n    </tr>\n    <tr>\n      <th>1</th>\n      <td>F</td>\n      <td>NaN</td>\n    </tr>\n    <tr>\n      <th>2</th>\n      <td>M</td>\n      <td>42</td>\n    </tr>\n    <tr>\n      <th>3</th>\n      <td>M</td>\n      <td>35</td>\n    </tr>\n    <tr>\n      <th>4</th>\n      <td>F</td>\n      <td>NaN</td>\n    </tr>\n    <tr>\n      <th>5</th>\n      <td>F</td>\n      <td>NaN</td>\n    </tr>\n    <tr>\n      <th>6</th>\n      <td>M</td>\n      <td>56</td>\n    </tr>\n    <tr>\n      <th>7</th>\n      <td>M</td>\n      <td>21</td>\n    </tr>\n    <tr>\n      <th>8</th>\n      <td>F</td>\n      <td>Nan</td>\n    </tr>\n    <tr>\n      <th>9</th>\n      <td>M</td>\n      <td>19</td>\n    </tr>\n  </tbody>\n</table>\n</div>"
     },
     "metadata": {},
     "execution_count": 2
    }
   ],
   "source": [
    "import pandas as pd \n",
    "data = pd.DataFrame(dic)\n",
    "data"
   ]
  },
  {
   "source": [
    "* We could easily notice that Age is missing for female, and thus the missing data depends on the observed data , however there is no dependency with the values of the missing column itself.\n",
    "* It is not caused by the missing data itself but affected by observed data => At Random"
   ],
   "cell_type": "markdown",
   "metadata": {}
  },
  {
   "cell_type": "code",
   "execution_count": null,
   "metadata": {},
   "outputs": [],
   "source": []
  }
 ]
}