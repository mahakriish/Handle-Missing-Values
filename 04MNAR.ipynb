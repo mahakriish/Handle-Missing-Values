{
 "metadata": {
  "language_info": {
   "codemirror_mode": {
    "name": "ipython",
    "version": 3
   },
   "file_extension": ".py",
   "mimetype": "text/x-python",
   "name": "python",
   "nbconvert_exporter": "python",
   "pygments_lexer": "ipython3",
   "version": "3.8.5-final"
  },
  "orig_nbformat": 2,
  "kernelspec": {
   "name": "python3",
   "display_name": "Python 3.8.5 64-bit ('venv': venv)",
   "metadata": {
    "interpreter": {
     "hash": "8871b0cfa421f95f3389ef11074b19f89c44a2a4994e6dba57b3347b5bec0ff6"
    }
   }
  }
 },
 "nbformat": 4,
 "nbformat_minor": 2,
 "cells": [
  {
   "source": [
    "# Missing not at random(MNAR) or Non-ignorable missing data"
   ],
   "cell_type": "markdown",
   "metadata": {}
  },
  {
   "cell_type": "code",
   "execution_count": null,
   "metadata": {},
   "outputs": [],
   "source": []
  },
  {
   "source": [
    "** What is MNAR? **\n",
    "\n",
    "* The data will be missing based on the  missing column itself.\n",
    "* It may be the case that we cannot confidently make any conclusions about the likely value of missing data.It is difficult to predict missing values.\n",
    "* It requires proper understanding and domain knowledge of the missing variable to handle MNAR.\n",
    "\n",
    "*for example,*\n",
    "* People with higher earnings are less likely to reveal them.\n",
    "* A person does not attend a drug test because the person took drugs the night before.\n",
    "* A person did not take English proficiency test due to his poor English language skill."
   ],
   "cell_type": "markdown",
   "metadata": {}
  },
  {
   "cell_type": "code",
   "execution_count": 5,
   "metadata": {},
   "outputs": [],
   "source": [
    "dic = {\n",
    "    'Gender':['M', 'F', 'M' ,'M','F', 'M','F', 'F', 'F', 'M '],\n",
    "    'Age':[25,30,'NaN',35,26,'NaN',56,21,'Nan',19]\n",
    "}"
   ]
  },
  {
   "cell_type": "code",
   "execution_count": 6,
   "metadata": {},
   "outputs": [],
   "source": [
    "import pandas as pd \n",
    "data = pd.DataFrame(dic)"
   ]
  },
  {
   "cell_type": "code",
   "execution_count": 7,
   "metadata": {},
   "outputs": [
    {
     "output_type": "execute_result",
     "data": {
      "text/plain": [
       "  Gender  Age\n",
       "0      M   25\n",
       "1      F   30\n",
       "2      M  NaN\n",
       "3      M   35\n",
       "4      F   26\n",
       "5      M  NaN\n",
       "6      F   56\n",
       "7      F   21\n",
       "8      F  Nan\n",
       "9     M    19"
      ],
      "text/html": "<div>\n<style scoped>\n    .dataframe tbody tr th:only-of-type {\n        vertical-align: middle;\n    }\n\n    .dataframe tbody tr th {\n        vertical-align: top;\n    }\n\n    .dataframe thead th {\n        text-align: right;\n    }\n</style>\n<table border=\"1\" class=\"dataframe\">\n  <thead>\n    <tr style=\"text-align: right;\">\n      <th></th>\n      <th>Gender</th>\n      <th>Age</th>\n    </tr>\n  </thead>\n  <tbody>\n    <tr>\n      <th>0</th>\n      <td>M</td>\n      <td>25</td>\n    </tr>\n    <tr>\n      <th>1</th>\n      <td>F</td>\n      <td>30</td>\n    </tr>\n    <tr>\n      <th>2</th>\n      <td>M</td>\n      <td>NaN</td>\n    </tr>\n    <tr>\n      <th>3</th>\n      <td>M</td>\n      <td>35</td>\n    </tr>\n    <tr>\n      <th>4</th>\n      <td>F</td>\n      <td>26</td>\n    </tr>\n    <tr>\n      <th>5</th>\n      <td>M</td>\n      <td>NaN</td>\n    </tr>\n    <tr>\n      <th>6</th>\n      <td>F</td>\n      <td>56</td>\n    </tr>\n    <tr>\n      <th>7</th>\n      <td>F</td>\n      <td>21</td>\n    </tr>\n    <tr>\n      <th>8</th>\n      <td>F</td>\n      <td>Nan</td>\n    </tr>\n    <tr>\n      <th>9</th>\n      <td>M</td>\n      <td>19</td>\n    </tr>\n  </tbody>\n</table>\n</div>"
     },
     "metadata": {},
     "execution_count": 7
    }
   ],
   "source": [
    "data"
   ]
  },
  {
   "source": [
    "In above data , we don't know what is the reason for this missing data in data. The missing values depends on Age column only not Gender Column. The Original data is below"
   ],
   "cell_type": "markdown",
   "metadata": {}
  },
  {
   "cell_type": "code",
   "execution_count": 9,
   "metadata": {},
   "outputs": [
    {
     "output_type": "execute_result",
     "data": {
      "text/plain": [
       "  Gender  Age\n",
       "0      M   25\n",
       "1      F   30\n",
       "2      M   75\n",
       "3      M   35\n",
       "4      F   26\n",
       "5      M   23\n",
       "6      F   56\n",
       "7      F   21\n",
       "8      F   87\n",
       "9     M    19"
      ],
      "text/html": "<div>\n<style scoped>\n    .dataframe tbody tr th:only-of-type {\n        vertical-align: middle;\n    }\n\n    .dataframe tbody tr th {\n        vertical-align: top;\n    }\n\n    .dataframe thead th {\n        text-align: right;\n    }\n</style>\n<table border=\"1\" class=\"dataframe\">\n  <thead>\n    <tr style=\"text-align: right;\">\n      <th></th>\n      <th>Gender</th>\n      <th>Age</th>\n    </tr>\n  </thead>\n  <tbody>\n    <tr>\n      <th>0</th>\n      <td>M</td>\n      <td>25</td>\n    </tr>\n    <tr>\n      <th>1</th>\n      <td>F</td>\n      <td>30</td>\n    </tr>\n    <tr>\n      <th>2</th>\n      <td>M</td>\n      <td>75</td>\n    </tr>\n    <tr>\n      <th>3</th>\n      <td>M</td>\n      <td>35</td>\n    </tr>\n    <tr>\n      <th>4</th>\n      <td>F</td>\n      <td>26</td>\n    </tr>\n    <tr>\n      <th>5</th>\n      <td>M</td>\n      <td>23</td>\n    </tr>\n    <tr>\n      <th>6</th>\n      <td>F</td>\n      <td>56</td>\n    </tr>\n    <tr>\n      <th>7</th>\n      <td>F</td>\n      <td>21</td>\n    </tr>\n    <tr>\n      <th>8</th>\n      <td>F</td>\n      <td>87</td>\n    </tr>\n    <tr>\n      <th>9</th>\n      <td>M</td>\n      <td>19</td>\n    </tr>\n  </tbody>\n</table>\n</div>"
     },
     "metadata": {},
     "execution_count": 9
    }
   ],
   "source": [
    "dic = {\n",
    "    'Gender':['M', 'F', 'M' ,'M','F', 'M','F', 'F', 'F', 'M '],\n",
    "    'Age':[25,30,75,35,26,23,56,21,87,19]\n",
    "}\n",
    "\n",
    "data = pd.DataFrame(dic)\n",
    "data"
   ]
  },
  {
   "cell_type": "code",
   "execution_count": null,
   "metadata": {},
   "outputs": [],
   "source": []
  }
 ]
}