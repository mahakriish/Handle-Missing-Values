{
 "metadata": {
  "language_info": {
   "codemirror_mode": {
    "name": "ipython",
    "version": 3
   },
   "file_extension": ".py",
   "mimetype": "text/x-python",
   "name": "python",
   "nbconvert_exporter": "python",
   "pygments_lexer": "ipython3",
   "version": "3.8.5-final"
  },
  "orig_nbformat": 2,
  "kernelspec": {
   "name": "python3",
   "display_name": "Python 3"
  }
 },
 "nbformat": 4,
 "nbformat_minor": 2,
 "cells": [
  {
   "source": [
    "# Missing completely at random(MCAR)"
   ],
   "cell_type": "markdown",
   "metadata": {}
  },
  {
   "source": [
    "** What is MCAR? **\n",
    "\n",
    "* The missingness has no relationship between the observed variable and partly missing variable. \n",
    "* But some other reason are there like quipment failure or samples are lost in transit or technically unsatisfactory.\n",
    "\n",
    "* The missing data are just a random subset of the data. The missingness is nothing to do with any other variable  i.e.,the probability of missingness is the same for each unit in your sample.\n",
    "\n",
    "*For example*, \n",
    "* A blood sample might be damaged in the lab.\n",
    "* Values were just randomly missed when being entered in the computer.\n",
    "* A questionnaire might be lost in the post,"
   ],
   "cell_type": "markdown",
   "metadata": {}
  },
  {
   "cell_type": "code",
   "execution_count": 3,
   "metadata": {},
   "outputs": [],
   "source": [
    "dic = {\n",
    "    'Gender':['M', 'F', 'M' ,'M','F', 'M','F', 'F', 'F', 'M '],\n",
    "    'Age':[25,30,'NaN',35,26,'NaN',56,21,'Nan',19]\n",
    "}"
   ]
  },
  {
   "cell_type": "code",
   "execution_count": 4,
   "metadata": {},
   "outputs": [
    {
     "output_type": "execute_result",
     "data": {
      "text/plain": [
       "  Gender  Age\n",
       "0      M   25\n",
       "1      F   30\n",
       "2      M  NaN\n",
       "3      M   35\n",
       "4      F   26\n",
       "5      M  NaN\n",
       "6      F   56\n",
       "7      F   21\n",
       "8      F  Nan\n",
       "9     M    19"
      ],
      "text/html": "<div>\n<style scoped>\n    .dataframe tbody tr th:only-of-type {\n        vertical-align: middle;\n    }\n\n    .dataframe tbody tr th {\n        vertical-align: top;\n    }\n\n    .dataframe thead th {\n        text-align: right;\n    }\n</style>\n<table border=\"1\" class=\"dataframe\">\n  <thead>\n    <tr style=\"text-align: right;\">\n      <th></th>\n      <th>Gender</th>\n      <th>Age</th>\n    </tr>\n  </thead>\n  <tbody>\n    <tr>\n      <th>0</th>\n      <td>M</td>\n      <td>25</td>\n    </tr>\n    <tr>\n      <th>1</th>\n      <td>F</td>\n      <td>30</td>\n    </tr>\n    <tr>\n      <th>2</th>\n      <td>M</td>\n      <td>NaN</td>\n    </tr>\n    <tr>\n      <th>3</th>\n      <td>M</td>\n      <td>35</td>\n    </tr>\n    <tr>\n      <th>4</th>\n      <td>F</td>\n      <td>26</td>\n    </tr>\n    <tr>\n      <th>5</th>\n      <td>M</td>\n      <td>NaN</td>\n    </tr>\n    <tr>\n      <th>6</th>\n      <td>F</td>\n      <td>56</td>\n    </tr>\n    <tr>\n      <th>7</th>\n      <td>F</td>\n      <td>21</td>\n    </tr>\n    <tr>\n      <th>8</th>\n      <td>F</td>\n      <td>Nan</td>\n    </tr>\n    <tr>\n      <th>9</th>\n      <td>M</td>\n      <td>19</td>\n    </tr>\n  </tbody>\n</table>\n</div>"
     },
     "metadata": {},
     "execution_count": 4
    }
   ],
   "source": [
    "import pandas as pd \n",
    "data = pd.DataFrame(dic)\n",
    "data"
   ]
  },
  {
   "source": [
    "* If you can predict any reason for missing data (e.g., using common sense, regression, or some other method) whether based on the complete variable Gender or the Missing variable Age , then the data is not MCAR !\n",
    "* It is not affected by neither the observed nor the missing data => Completely At Random"
   ],
   "cell_type": "markdown",
   "metadata": {}
  },
  {
   "cell_type": "code",
   "execution_count": 6,
   "metadata": {},
   "outputs": [
    {
     "output_type": "execute_result",
     "data": {
      "text/plain": [
       "  Gender  Age\n",
       "0      M   25\n",
       "1      F   30\n",
       "2      M   75\n",
       "3      M   35\n",
       "4      F   26\n",
       "5      M   23\n",
       "6      F   56\n",
       "7      F   21\n",
       "8      F   87\n",
       "9     M    19"
      ],
      "text/html": "<div>\n<style scoped>\n    .dataframe tbody tr th:only-of-type {\n        vertical-align: middle;\n    }\n\n    .dataframe tbody tr th {\n        vertical-align: top;\n    }\n\n    .dataframe thead th {\n        text-align: right;\n    }\n</style>\n<table border=\"1\" class=\"dataframe\">\n  <thead>\n    <tr style=\"text-align: right;\">\n      <th></th>\n      <th>Gender</th>\n      <th>Age</th>\n    </tr>\n  </thead>\n  <tbody>\n    <tr>\n      <th>0</th>\n      <td>M</td>\n      <td>25</td>\n    </tr>\n    <tr>\n      <th>1</th>\n      <td>F</td>\n      <td>30</td>\n    </tr>\n    <tr>\n      <th>2</th>\n      <td>M</td>\n      <td>75</td>\n    </tr>\n    <tr>\n      <th>3</th>\n      <td>M</td>\n      <td>35</td>\n    </tr>\n    <tr>\n      <th>4</th>\n      <td>F</td>\n      <td>26</td>\n    </tr>\n    <tr>\n      <th>5</th>\n      <td>M</td>\n      <td>23</td>\n    </tr>\n    <tr>\n      <th>6</th>\n      <td>F</td>\n      <td>56</td>\n    </tr>\n    <tr>\n      <th>7</th>\n      <td>F</td>\n      <td>21</td>\n    </tr>\n    <tr>\n      <th>8</th>\n      <td>F</td>\n      <td>87</td>\n    </tr>\n    <tr>\n      <th>9</th>\n      <td>M</td>\n      <td>19</td>\n    </tr>\n  </tbody>\n</table>\n</div>"
     },
     "metadata": {},
     "execution_count": 6
    }
   ],
   "source": [
    "dic = {\n",
    "    'Gender':['M', 'F', 'M' ,'M','F', 'M','F', 'F', 'F', 'M '],\n",
    "    'Age':[25,30,75,35,26,23,56,21,87,19]\n",
    "}\n",
    "\n",
    "data = pd.DataFrame(dic)\n",
    "data"
   ]
  },
  {
   "cell_type": "code",
   "execution_count": null,
   "metadata": {},
   "outputs": [],
   "source": []
  }
 ]
}