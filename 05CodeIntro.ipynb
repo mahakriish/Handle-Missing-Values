{
 "metadata": {
  "language_info": {
   "codemirror_mode": {
    "name": "ipython",
    "version": 3
   },
   "file_extension": ".py",
   "mimetype": "text/x-python",
   "name": "python",
   "nbconvert_exporter": "python",
   "pygments_lexer": "ipython3",
   "version": "3.8.5-final"
  },
  "orig_nbformat": 2,
  "kernelspec": {
   "name": "python3",
   "display_name": "Python 3.8.5 64-bit",
   "metadata": {
    "interpreter": {
     "hash": "7de568600a9844b5fcbabc30e3a78b9e603e1729f13a5c67d481562dc69ce707"
    }
   }
  }
 },
 "nbformat": 4,
 "nbformat_minor": 2,
 "cells": [
  {
   "cell_type": "code",
   "execution_count": 1,
   "metadata": {},
   "outputs": [],
   "source": [
    "#Import Libraries\n",
    "import numpy as np \n",
    "\n",
    "import pandas as pd"
   ]
  },
  {
   "cell_type": "code",
   "execution_count": 37,
   "metadata": {},
   "outputs": [],
   "source": [
    "dic = { \"Rank\":[ 5,  2,  8,  6,  9,  4,  7, 10,  1,  3],\n",
    "\"score\":[60,80,None,55,40,70,65,None,90,None],\n",
    "\"First_Term\":[52, 51, None, 99, 73,  7, 77, 95, 81, 39],\n",
    "\"Second_Term\":[61, 50,  5, None, 63, 83, 40, None, 28, 92],\n",
    "\"Third_Term\":[14, 87, 49, 12, None, 16, None,None, 35, 86]\n",
    "\n",
    "}"
   ]
  },
  {
   "cell_type": "code",
   "execution_count": 38,
   "metadata": {},
   "outputs": [
    {
     "output_type": "execute_result",
     "data": {
      "text/plain": [
       "   Rank  score  First_Term  Second_Term  Third_Term\n",
       "0     5   60.0        52.0         61.0        14.0\n",
       "1     2   80.0        51.0         50.0        87.0\n",
       "2     8    NaN         NaN          5.0        49.0\n",
       "3     6   55.0        99.0          NaN        12.0\n",
       "4     9   40.0        73.0         63.0         NaN\n",
       "5     4   70.0         7.0         83.0        16.0\n",
       "6     7   65.0        77.0         40.0         NaN\n",
       "7    10    NaN        95.0          NaN         NaN\n",
       "8     1   90.0        81.0         28.0        35.0\n",
       "9     3    NaN        39.0         92.0        86.0"
      ],
      "text/html": "<div>\n<style scoped>\n    .dataframe tbody tr th:only-of-type {\n        vertical-align: middle;\n    }\n\n    .dataframe tbody tr th {\n        vertical-align: top;\n    }\n\n    .dataframe thead th {\n        text-align: right;\n    }\n</style>\n<table border=\"1\" class=\"dataframe\">\n  <thead>\n    <tr style=\"text-align: right;\">\n      <th></th>\n      <th>Rank</th>\n      <th>score</th>\n      <th>First_Term</th>\n      <th>Second_Term</th>\n      <th>Third_Term</th>\n    </tr>\n  </thead>\n  <tbody>\n    <tr>\n      <th>0</th>\n      <td>5</td>\n      <td>60.0</td>\n      <td>52.0</td>\n      <td>61.0</td>\n      <td>14.0</td>\n    </tr>\n    <tr>\n      <th>1</th>\n      <td>2</td>\n      <td>80.0</td>\n      <td>51.0</td>\n      <td>50.0</td>\n      <td>87.0</td>\n    </tr>\n    <tr>\n      <th>2</th>\n      <td>8</td>\n      <td>NaN</td>\n      <td>NaN</td>\n      <td>5.0</td>\n      <td>49.0</td>\n    </tr>\n    <tr>\n      <th>3</th>\n      <td>6</td>\n      <td>55.0</td>\n      <td>99.0</td>\n      <td>NaN</td>\n      <td>12.0</td>\n    </tr>\n    <tr>\n      <th>4</th>\n      <td>9</td>\n      <td>40.0</td>\n      <td>73.0</td>\n      <td>63.0</td>\n      <td>NaN</td>\n    </tr>\n    <tr>\n      <th>5</th>\n      <td>4</td>\n      <td>70.0</td>\n      <td>7.0</td>\n      <td>83.0</td>\n      <td>16.0</td>\n    </tr>\n    <tr>\n      <th>6</th>\n      <td>7</td>\n      <td>65.0</td>\n      <td>77.0</td>\n      <td>40.0</td>\n      <td>NaN</td>\n    </tr>\n    <tr>\n      <th>7</th>\n      <td>10</td>\n      <td>NaN</td>\n      <td>95.0</td>\n      <td>NaN</td>\n      <td>NaN</td>\n    </tr>\n    <tr>\n      <th>8</th>\n      <td>1</td>\n      <td>90.0</td>\n      <td>81.0</td>\n      <td>28.0</td>\n      <td>35.0</td>\n    </tr>\n    <tr>\n      <th>9</th>\n      <td>3</td>\n      <td>NaN</td>\n      <td>39.0</td>\n      <td>92.0</td>\n      <td>86.0</td>\n    </tr>\n  </tbody>\n</table>\n</div>"
     },
     "metadata": {},
     "execution_count": 38
    }
   ],
   "source": [
    "data = pd.DataFrame(dic)\n",
    "data"
   ]
  },
  {
   "cell_type": "code",
   "execution_count": 39,
   "metadata": {},
   "outputs": [
    {
     "output_type": "stream",
     "name": "stdout",
     "text": [
      "<class 'pandas.core.frame.DataFrame'>\nRangeIndex: 10 entries, 0 to 9\nData columns (total 5 columns):\n #   Column       Non-Null Count  Dtype  \n---  ------       --------------  -----  \n 0   Rank         10 non-null     int64  \n 1   score        7 non-null      float64\n 2   First_Term   9 non-null      float64\n 3   Second_Term  8 non-null      float64\n 4   Third_Term   7 non-null      float64\ndtypes: float64(4), int64(1)\nmemory usage: 528.0 bytes\n"
     ]
    }
   ],
   "source": [
    "#By using we can find whether the data has null values or not\n",
    "data.info()"
   ]
  },
  {
   "source": [
    "** Find Null values **"
   ],
   "cell_type": "markdown",
   "metadata": {}
  },
  {
   "cell_type": "code",
   "execution_count": 40,
   "metadata": {},
   "outputs": [
    {
     "output_type": "execute_result",
     "data": {
      "text/plain": [
       "    Rank  score  First_Term  Second_Term  Third_Term\n",
       "0  False  False       False        False       False\n",
       "1  False  False       False        False       False\n",
       "2  False   True        True        False       False\n",
       "3  False  False       False         True       False\n",
       "4  False  False       False        False        True\n",
       "5  False  False       False        False       False\n",
       "6  False  False       False        False        True\n",
       "7  False   True       False         True        True\n",
       "8  False  False       False        False       False\n",
       "9  False   True       False        False       False"
      ],
      "text/html": "<div>\n<style scoped>\n    .dataframe tbody tr th:only-of-type {\n        vertical-align: middle;\n    }\n\n    .dataframe tbody tr th {\n        vertical-align: top;\n    }\n\n    .dataframe thead th {\n        text-align: right;\n    }\n</style>\n<table border=\"1\" class=\"dataframe\">\n  <thead>\n    <tr style=\"text-align: right;\">\n      <th></th>\n      <th>Rank</th>\n      <th>score</th>\n      <th>First_Term</th>\n      <th>Second_Term</th>\n      <th>Third_Term</th>\n    </tr>\n  </thead>\n  <tbody>\n    <tr>\n      <th>0</th>\n      <td>False</td>\n      <td>False</td>\n      <td>False</td>\n      <td>False</td>\n      <td>False</td>\n    </tr>\n    <tr>\n      <th>1</th>\n      <td>False</td>\n      <td>False</td>\n      <td>False</td>\n      <td>False</td>\n      <td>False</td>\n    </tr>\n    <tr>\n      <th>2</th>\n      <td>False</td>\n      <td>True</td>\n      <td>True</td>\n      <td>False</td>\n      <td>False</td>\n    </tr>\n    <tr>\n      <th>3</th>\n      <td>False</td>\n      <td>False</td>\n      <td>False</td>\n      <td>True</td>\n      <td>False</td>\n    </tr>\n    <tr>\n      <th>4</th>\n      <td>False</td>\n      <td>False</td>\n      <td>False</td>\n      <td>False</td>\n      <td>True</td>\n    </tr>\n    <tr>\n      <th>5</th>\n      <td>False</td>\n      <td>False</td>\n      <td>False</td>\n      <td>False</td>\n      <td>False</td>\n    </tr>\n    <tr>\n      <th>6</th>\n      <td>False</td>\n      <td>False</td>\n      <td>False</td>\n      <td>False</td>\n      <td>True</td>\n    </tr>\n    <tr>\n      <th>7</th>\n      <td>False</td>\n      <td>True</td>\n      <td>False</td>\n      <td>True</td>\n      <td>True</td>\n    </tr>\n    <tr>\n      <th>8</th>\n      <td>False</td>\n      <td>False</td>\n      <td>False</td>\n      <td>False</td>\n      <td>False</td>\n    </tr>\n    <tr>\n      <th>9</th>\n      <td>False</td>\n      <td>True</td>\n      <td>False</td>\n      <td>False</td>\n      <td>False</td>\n    </tr>\n  </tbody>\n</table>\n</div>"
     },
     "metadata": {},
     "execution_count": 40
    }
   ],
   "source": [
    "data.isnull()"
   ]
  },
  {
   "source": [
    "** Find the Total Number of null values **"
   ],
   "cell_type": "markdown",
   "metadata": {}
  },
  {
   "cell_type": "code",
   "execution_count": 9,
   "metadata": {},
   "outputs": [
    {
     "output_type": "execute_result",
     "data": {
      "text/plain": [
       "Rank           0\n",
       "score          3\n",
       "First_Term     1\n",
       "Second_Term    2\n",
       "Third_Term     3\n",
       "dtype: int64"
      ]
     },
     "metadata": {},
     "execution_count": 9
    }
   ],
   "source": [
    "data.isnull().sum()"
   ]
  },
  {
   "source": [
    "** Find the Null values for particular column **"
   ],
   "cell_type": "markdown",
   "metadata": {}
  },
  {
   "cell_type": "code",
   "execution_count": 42,
   "metadata": {},
   "outputs": [
    {
     "output_type": "execute_result",
     "data": {
      "text/plain": [
       "   Rank  score  First_Term  Second_Term  Third_Term\n",
       "4     9   40.0        73.0         63.0         NaN\n",
       "6     7   65.0        77.0         40.0         NaN\n",
       "7    10    NaN        95.0          NaN         NaN"
      ],
      "text/html": "<div>\n<style scoped>\n    .dataframe tbody tr th:only-of-type {\n        vertical-align: middle;\n    }\n\n    .dataframe tbody tr th {\n        vertical-align: top;\n    }\n\n    .dataframe thead th {\n        text-align: right;\n    }\n</style>\n<table border=\"1\" class=\"dataframe\">\n  <thead>\n    <tr style=\"text-align: right;\">\n      <th></th>\n      <th>Rank</th>\n      <th>score</th>\n      <th>First_Term</th>\n      <th>Second_Term</th>\n      <th>Third_Term</th>\n    </tr>\n  </thead>\n  <tbody>\n    <tr>\n      <th>4</th>\n      <td>9</td>\n      <td>40.0</td>\n      <td>73.0</td>\n      <td>63.0</td>\n      <td>NaN</td>\n    </tr>\n    <tr>\n      <th>6</th>\n      <td>7</td>\n      <td>65.0</td>\n      <td>77.0</td>\n      <td>40.0</td>\n      <td>NaN</td>\n    </tr>\n    <tr>\n      <th>7</th>\n      <td>10</td>\n      <td>NaN</td>\n      <td>95.0</td>\n      <td>NaN</td>\n      <td>NaN</td>\n    </tr>\n  </tbody>\n</table>\n</div>"
     },
     "metadata": {},
     "execution_count": 42
    }
   ],
   "source": [
    "data[data['Third_Term'].isnull()]"
   ]
  },
  {
   "source": [
    "** Arrange the number of null values from higher to lower **"
   ],
   "cell_type": "markdown",
   "metadata": {}
  },
  {
   "cell_type": "code",
   "execution_count": 10,
   "metadata": {},
   "outputs": [
    {
     "output_type": "execute_result",
     "data": {
      "text/plain": [
       "Third_Term     3\n",
       "score          3\n",
       "Second_Term    2\n",
       "First_Term     1\n",
       "Rank           0\n",
       "dtype: int64"
      ]
     },
     "metadata": {},
     "execution_count": 10
    }
   ],
   "source": [
    "data.isnull().sum().sort_values(ascending=False)"
   ]
  },
  {
   "source": [
    "** Find total number of values expect null values **"
   ],
   "cell_type": "markdown",
   "metadata": {}
  },
  {
   "cell_type": "code",
   "execution_count": 11,
   "metadata": {},
   "outputs": [
    {
     "output_type": "execute_result",
     "data": {
      "text/plain": [
       "score           7\n",
       "Third_Term      7\n",
       "Second_Term     8\n",
       "First_Term      9\n",
       "Rank           10\n",
       "dtype: int64"
      ]
     },
     "metadata": {},
     "execution_count": 11
    }
   ],
   "source": [
    "data.count().sort_values(ascending=True)"
   ]
  },
  {
   "source": [
    "** Find Total number of  values including null values **"
   ],
   "cell_type": "markdown",
   "metadata": {}
  },
  {
   "cell_type": "code",
   "execution_count": 12,
   "metadata": {},
   "outputs": [
    {
     "output_type": "execute_result",
     "data": {
      "text/plain": [
       "Rank           10\n",
       "score          10\n",
       "First_Term     10\n",
       "Second_Term    10\n",
       "Third_Term     10\n",
       "dtype: int64"
      ]
     },
     "metadata": {},
     "execution_count": 12
    }
   ],
   "source": [
    "data.isnull().count()"
   ]
  },
  {
   "source": [
    "** To find, howmany percentage of value are missing **"
   ],
   "cell_type": "markdown",
   "metadata": {}
  },
  {
   "cell_type": "code",
   "execution_count": 17,
   "metadata": {},
   "outputs": [
    {
     "output_type": "execute_result",
     "data": {
      "text/plain": [
       "Third_Term     30.0\n",
       "score          30.0\n",
       "Second_Term    20.0\n",
       "First_Term     10.0\n",
       "Rank            0.0\n",
       "dtype: float64"
      ]
     },
     "metadata": {},
     "execution_count": 17
    }
   ],
   "source": [
    "((data.isnull().mean())*100).sort_values(ascending=False)"
   ]
  },
  {
   "cell_type": "code",
   "execution_count": 18,
   "metadata": {},
   "outputs": [],
   "source": [
    "#We can find another way as well\n"
   ]
  },
  {
   "cell_type": "code",
   "execution_count": 19,
   "metadata": {},
   "outputs": [
    {
     "output_type": "execute_result",
     "data": {
      "text/plain": [
       "Third_Term     3\n",
       "score          3\n",
       "Second_Term    2\n",
       "First_Term     1\n",
       "Rank           0\n",
       "dtype: int64"
      ]
     },
     "metadata": {},
     "execution_count": 19
    }
   ],
   "source": [
    "Total_null = data.isnull().sum().sort_values(ascending=False)\n",
    "Total_null"
   ]
  },
  {
   "cell_type": "code",
   "execution_count": 20,
   "metadata": {},
   "outputs": [
    {
     "output_type": "execute_result",
     "data": {
      "text/plain": [
       "Rank           10\n",
       "score          10\n",
       "First_Term     10\n",
       "Second_Term    10\n",
       "Third_Term     10\n",
       "dtype: int64"
      ]
     },
     "metadata": {},
     "execution_count": 20
    }
   ],
   "source": [
    "Total_count = data.isnull().count()\n",
    "Total_count"
   ]
  },
  {
   "cell_type": "code",
   "execution_count": 28,
   "metadata": {},
   "outputs": [
    {
     "output_type": "execute_result",
     "data": {
      "text/plain": [
       "score          30.0\n",
       "Third_Term     30.0\n",
       "Second_Term    20.0\n",
       "First_Term     10.0\n",
       "Rank            0.0\n",
       "dtype: float64"
      ]
     },
     "metadata": {},
     "execution_count": 28
    }
   ],
   "source": [
    "Percentage_of_null = ((Total_null/Total_count)*100).sort_values(ascending=False)\n",
    "Percentage_of_null"
   ]
  },
  {
   "source": [
    "** Create dataframe by using Total count,Total null values and Percentage of null values **"
   ],
   "cell_type": "markdown",
   "metadata": {}
  },
  {
   "cell_type": "code",
   "execution_count": 25,
   "metadata": {},
   "outputs": [
    {
     "output_type": "execute_result",
     "data": {
      "text/plain": [
       "Third_Term     3\n",
       "score          3\n",
       "Second_Term    2\n",
       "First_Term     1\n",
       "Rank           0\n",
       "dtype: int64"
      ]
     },
     "metadata": {},
     "execution_count": 25
    }
   ],
   "source": [
    "Total_null"
   ]
  },
  {
   "cell_type": "code",
   "execution_count": 26,
   "metadata": {},
   "outputs": [
    {
     "output_type": "execute_result",
     "data": {
      "text/plain": [
       "score          30.0\n",
       "Third_Term     30.0\n",
       "Second_Term    20.0\n",
       "First_Term     10.0\n",
       "Rank            0.0\n",
       "dtype: float64"
      ]
     },
     "metadata": {},
     "execution_count": 26
    }
   ],
   "source": [
    "Percentage_of_null"
   ]
  },
  {
   "cell_type": "code",
   "execution_count": 29,
   "metadata": {},
   "outputs": [],
   "source": [
    "dataframe_null = pd.concat([Total_null,Percentage_of_null],axis=1,keys=['Total_Null','Percentage_of_Null']) "
   ]
  },
  {
   "cell_type": "code",
   "execution_count": 30,
   "metadata": {},
   "outputs": [
    {
     "output_type": "execute_result",
     "data": {
      "text/plain": [
       "             Total_Null  Percentage_of_Null\n",
       "Third_Term            3                30.0\n",
       "score                 3                30.0\n",
       "Second_Term           2                20.0\n",
       "First_Term            1                10.0\n",
       "Rank                  0                 0.0"
      ],
      "text/html": "<div>\n<style scoped>\n    .dataframe tbody tr th:only-of-type {\n        vertical-align: middle;\n    }\n\n    .dataframe tbody tr th {\n        vertical-align: top;\n    }\n\n    .dataframe thead th {\n        text-align: right;\n    }\n</style>\n<table border=\"1\" class=\"dataframe\">\n  <thead>\n    <tr style=\"text-align: right;\">\n      <th></th>\n      <th>Total_Null</th>\n      <th>Percentage_of_Null</th>\n    </tr>\n  </thead>\n  <tbody>\n    <tr>\n      <th>Third_Term</th>\n      <td>3</td>\n      <td>30.0</td>\n    </tr>\n    <tr>\n      <th>score</th>\n      <td>3</td>\n      <td>30.0</td>\n    </tr>\n    <tr>\n      <th>Second_Term</th>\n      <td>2</td>\n      <td>20.0</td>\n    </tr>\n    <tr>\n      <th>First_Term</th>\n      <td>1</td>\n      <td>10.0</td>\n    </tr>\n    <tr>\n      <th>Rank</th>\n      <td>0</td>\n      <td>0.0</td>\n    </tr>\n  </tbody>\n</table>\n</div>"
     },
     "metadata": {},
     "execution_count": 30
    }
   ],
   "source": [
    "dataframe_null"
   ]
  },
  {
   "cell_type": "code",
   "execution_count": 2,
   "metadata": {},
   "outputs": [],
   "source": [
    "dic = { \"Rank\":[ 5,  2,  0,  6,  0,  4,  7, 0,  1,  3],\n",
    "\"score\":[60,80,None,55,40,70,65,None,90,None],\n",
    "\"First_Term\":[52, 51, None, 99, 73,  7, 77, 95, 81, 39],\n",
    "\"Second_Term\":[61, 50,  5, None, 63, 83, 40, None, 28, 92],\n",
    "\"Third_Term\":[14, 87, 49, 12, None, 16, None,None, 35, 86]\n",
    "\n",
    "}"
   ]
  },
  {
   "source": [
    "**Find the null values for not giving null **"
   ],
   "cell_type": "markdown",
   "metadata": {}
  },
  {
   "cell_type": "code",
   "execution_count": 3,
   "metadata": {},
   "outputs": [
    {
     "output_type": "execute_result",
     "data": {
      "text/plain": [
       "   Rank  score  First_Term  Second_Term  Third_Term\n",
       "0     5   60.0        52.0         61.0        14.0\n",
       "1     2   80.0        51.0         50.0        87.0\n",
       "2     0    NaN         NaN          5.0        49.0\n",
       "3     6   55.0        99.0          NaN        12.0\n",
       "4     0   40.0        73.0         63.0         NaN\n",
       "5     4   70.0         7.0         83.0        16.0\n",
       "6     7   65.0        77.0         40.0         NaN\n",
       "7     0    NaN        95.0          NaN         NaN\n",
       "8     1   90.0        81.0         28.0        35.0\n",
       "9     3    NaN        39.0         92.0        86.0"
      ],
      "text/html": "<div>\n<style scoped>\n    .dataframe tbody tr th:only-of-type {\n        vertical-align: middle;\n    }\n\n    .dataframe tbody tr th {\n        vertical-align: top;\n    }\n\n    .dataframe thead th {\n        text-align: right;\n    }\n</style>\n<table border=\"1\" class=\"dataframe\">\n  <thead>\n    <tr style=\"text-align: right;\">\n      <th></th>\n      <th>Rank</th>\n      <th>score</th>\n      <th>First_Term</th>\n      <th>Second_Term</th>\n      <th>Third_Term</th>\n    </tr>\n  </thead>\n  <tbody>\n    <tr>\n      <th>0</th>\n      <td>5</td>\n      <td>60.0</td>\n      <td>52.0</td>\n      <td>61.0</td>\n      <td>14.0</td>\n    </tr>\n    <tr>\n      <th>1</th>\n      <td>2</td>\n      <td>80.0</td>\n      <td>51.0</td>\n      <td>50.0</td>\n      <td>87.0</td>\n    </tr>\n    <tr>\n      <th>2</th>\n      <td>0</td>\n      <td>NaN</td>\n      <td>NaN</td>\n      <td>5.0</td>\n      <td>49.0</td>\n    </tr>\n    <tr>\n      <th>3</th>\n      <td>6</td>\n      <td>55.0</td>\n      <td>99.0</td>\n      <td>NaN</td>\n      <td>12.0</td>\n    </tr>\n    <tr>\n      <th>4</th>\n      <td>0</td>\n      <td>40.0</td>\n      <td>73.0</td>\n      <td>63.0</td>\n      <td>NaN</td>\n    </tr>\n    <tr>\n      <th>5</th>\n      <td>4</td>\n      <td>70.0</td>\n      <td>7.0</td>\n      <td>83.0</td>\n      <td>16.0</td>\n    </tr>\n    <tr>\n      <th>6</th>\n      <td>7</td>\n      <td>65.0</td>\n      <td>77.0</td>\n      <td>40.0</td>\n      <td>NaN</td>\n    </tr>\n    <tr>\n      <th>7</th>\n      <td>0</td>\n      <td>NaN</td>\n      <td>95.0</td>\n      <td>NaN</td>\n      <td>NaN</td>\n    </tr>\n    <tr>\n      <th>8</th>\n      <td>1</td>\n      <td>90.0</td>\n      <td>81.0</td>\n      <td>28.0</td>\n      <td>35.0</td>\n    </tr>\n    <tr>\n      <th>9</th>\n      <td>3</td>\n      <td>NaN</td>\n      <td>39.0</td>\n      <td>92.0</td>\n      <td>86.0</td>\n    </tr>\n  </tbody>\n</table>\n</div>"
     },
     "metadata": {},
     "execution_count": 3
    }
   ],
   "source": [
    "data = pd.DataFrame(dic)\n",
    "data"
   ]
  },
  {
   "source": [
    "There are no null values in Rank. But in our data the null values is given by zero. So we should consider zero  as null values."
   ],
   "cell_type": "markdown",
   "metadata": {}
  },
  {
   "cell_type": "code",
   "execution_count": 4,
   "metadata": {},
   "outputs": [
    {
     "output_type": "execute_result",
     "data": {
      "text/plain": [
       "0"
      ]
     },
     "metadata": {},
     "execution_count": 4
    }
   ],
   "source": [
    "data['Rank'].isnull().sum()"
   ]
  },
  {
   "cell_type": "code",
   "execution_count": 6,
   "metadata": {},
   "outputs": [],
   "source": [
    "data.loc[data[\"Rank\"] == 0, \"Rank\"] = np.NAN"
   ]
  },
  {
   "cell_type": "code",
   "execution_count": 7,
   "metadata": {},
   "outputs": [
    {
     "output_type": "execute_result",
     "data": {
      "text/plain": [
       "3"
      ]
     },
     "metadata": {},
     "execution_count": 7
    }
   ],
   "source": [
    "data['Rank'].isnull().sum()"
   ]
  },
  {
   "cell_type": "code",
   "execution_count": null,
   "metadata": {},
   "outputs": [],
   "source": []
  }
 ]
}